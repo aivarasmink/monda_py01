{
 "cells": [
  {
   "cell_type": "markdown",
   "metadata": {},
   "source": [
    "# First full Python program"
   ]
  },
  {
   "cell_type": "markdown",
   "metadata": {},
   "source": [
    "You're almost there - you should know enough to be able to write a full program. The only things left are user input, and variable type conversion. We will cover them now."
   ]
  },
  {
   "cell_type": "markdown",
   "metadata": {},
   "source": [
    "---\n",
    "\n",
    "## User input in Python"
   ]
  },
  {
   "cell_type": "markdown",
   "metadata": {},
   "source": [
    "The `input()` function allows a program to prompt the user for input, and then returns that input as a string. \n",
    "\n",
    "**Syntax**:\n",
    "```python\n",
    "input(prompt)\n",
    "```\n",
    "- `prompt` (optional): A string that represents a default message before the input.\n",
    "\n",
    "**Example**: If you run the code, you will be prompted to enter your name. After providing the input and pressing enter, the program will greet you using the name you entered.\n",
    "\n",
    "💡Attention: Jupyter Notebook input prompt appears at the top of the window, not near the code cell where users actually expect it."
   ]
  },
  {
   "cell_type": "code",
   "execution_count": 1,
   "metadata": {},
   "outputs": [
    {
     "name": "stdout",
     "output_type": "stream",
     "text": [
      "Hello, Kestutis!\n"
     ]
    }
   ],
   "source": [
    "name = input(\"Please enter your name: \")\n",
    "print(f\"Hello, {name}!\")"
   ]
  },
  {
   "cell_type": "markdown",
   "metadata": {},
   "source": [
    "### Quick Assignment 1\n",
    "\n",
    "Write a small program that:\n",
    "1. Asks the user for their favorite `color`.\n",
    "2. Asks the user for a `number`.\n",
    "3. Prints a statement saying, \"Your favorite color is `color` and your favorite number is `number`.\""
   ]
  },
  {
   "cell_type": "code",
   "execution_count": 1,
   "metadata": {},
   "outputs": [
    {
     "name": "stdout",
     "output_type": "stream",
     "text": [
      "Hello,  aivaras\n",
      "I like  raudona\n",
      "I am a  bedarbis\n"
     ]
    }
   ],
   "source": [
    "name = input('What is your name? ')\n",
    "print('Hello, ', name)\n",
    "color = input('What is your favorite color? ')\n",
    "print('I like ', color)\n",
    "occupation = input('What is your occupation? ')\n",
    "print('I am a ', occupation)"
   ]
  },
  {
   "cell_type": "markdown",
   "metadata": {},
   "source": [
    "**Return Type**: The `input()` function always returns data as a string. If you need to use this data as another type (like an integer or float), you'll have to convert it using type-casting functions like `int()` or `float()`."
   ]
  },
  {
   "cell_type": "code",
   "execution_count": 2,
   "metadata": {},
   "outputs": [
    {
     "name": "stdout",
     "output_type": "stream",
     "text": [
      "In 10 years, you will be 50 years old.\n"
     ]
    }
   ],
   "source": [
    "age = input(\"Please enter your age: \")\n",
    "age = int(age)  # Convert string to integer\n",
    "print(f\"In 10 years, you will be {age + 10} years old.\")"
   ]
  },
  {
   "cell_type": "markdown",
   "metadata": {},
   "source": [
    "**Security Concern**: Be cautious while using the `input()` function, especially if you're planning to use the entered data in any form of code execution or database queries. There's a risk of code injection attacks if not handled properly."
   ]
  },
  {
   "cell_type": "markdown",
   "metadata": {},
   "source": [
    "### Quick Assignment 2\n",
    "\n",
    "Write a simple program, which asks two numbers and then adds them together."
   ]
  },
  {
   "cell_type": "code",
   "execution_count": 4,
   "metadata": {},
   "outputs": [
    {
     "name": "stdout",
     "output_type": "stream",
     "text": [
      "22\n"
     ]
    }
   ],
   "source": [
    "a = input('Enter a number: ')\n",
    "b = input('Enter another number: ')\n",
    "c = a + b\n",
    "print(c)"
   ]
  },
  {
   "cell_type": "markdown",
   "metadata": {},
   "source": [
    "---\n",
    "\n",
    "## Conclusion"
   ]
  },
  {
   "cell_type": "markdown",
   "metadata": {},
   "source": [
    "The `input()` function is fundamental in making your Python programs interactive. It bridges the gap between user and machine, allowing for dynamic program behaviors based on user input. So now you are able to write a simple program, which asks user for input and perform some interaction with the input. But it is a good time for you to start writing code. Get creative."
   ]
  },
  {
   "cell_type": "markdown",
   "metadata": {},
   "source": [
    "---\n",
    "\n",
    "## Assignment 1"
   ]
  },
  {
   "cell_type": "markdown",
   "metadata": {},
   "source": [
    "Write a full python program (in `.py` file) - a simple calculator:\n",
    "- ask the user which operation he plans to execute\n",
    "- collect two numbers\n",
    "- execute the operation with the numbers. Remember to convert the inputs.\n",
    "It is recomended to use `if ... elif ... else` logic for operation checking."
   ]
  },
  {
   "cell_type": "markdown",
   "metadata": {},
   "source": [
    "## Assignment 2\n",
    "\n",
    "You can try to execute the above assignment with a single input, and pass it to the `eval()` function and print the result.\n",
    "However, such program would not be safe, since user can execute unwanted Python code, not just a simple math operation.\n",
    "You are free to experiment."
   ]
  },
  {
   "cell_type": "markdown",
   "metadata": {},
   "source": [
    "## Assignment 3\n",
    "\n",
    "Write any program, which processes user input and outputs the result. Be creative!"
   ]
  }
 ],
 "metadata": {
  "kernelspec": {
   "display_name": "venv",
   "language": "python",
   "name": "python3"
  },
  "language_info": {
   "codemirror_mode": {
    "name": "ipython",
    "version": 3
   },
   "file_extension": ".py",
   "mimetype": "text/x-python",
   "name": "python",
   "nbconvert_exporter": "python",
   "pygments_lexer": "ipython3",
   "version": "3.12.0"
  },
  "orig_nbformat": 4
 },
 "nbformat": 4,
 "nbformat_minor": 2
}
