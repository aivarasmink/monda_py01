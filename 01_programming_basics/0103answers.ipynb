{
 "cells": [
  {
   "cell_type": "markdown",
   "metadata": {},
   "source": [
    "## Quick Assignment Answers"
   ]
  },
  {
   "cell_type": "code",
   "execution_count": 1,
   "metadata": {},
   "outputs": [
    {
     "name": "stdout",
     "output_type": "stream",
     "text": [
      "1\n"
     ]
    }
   ],
   "source": [
    "# QA 1\n",
    "number = 1\n",
    "print(number)"
   ]
  },
  {
   "cell_type": "code",
   "execution_count": 6,
   "metadata": {},
   "outputs": [
    {
     "name": "stdout",
     "output_type": "stream",
     "text": [
      "frittata, 3, True\n"
     ]
    }
   ],
   "source": [
    "# QA 2\n",
    "eggs = 3\n",
    "dish = \"frittata\"\n",
    "is_tasty = True\n",
    "print(dish, eggs, is_tasty, sep=', ')"
   ]
  },
  {
   "cell_type": "code",
   "execution_count": 3,
   "metadata": {},
   "outputs": [
    {
     "name": "stdout",
     "output_type": "stream",
     "text": [
      "Stellina None\n",
      "Solana Stellina\n"
     ]
    }
   ],
   "source": [
    "# QA 3\n",
    "\n",
    "ex = None\n",
    "girlfriend = \"Stellina\"\n",
    "print(girlfriend, ex)\n",
    "ex = girlfriend\n",
    "girlfriend = \"Solana\"\n",
    "print(girlfriend, ex)\n"
   ]
  },
  {
   "cell_type": "code",
   "execution_count": 5,
   "metadata": {},
   "outputs": [
    {
     "name": "stdout",
     "output_type": "stream",
     "text": [
      "6.25x4x2.5\n"
     ]
    }
   ],
   "source": [
    "# QA 4\n",
    "\n",
    "floor_height = 2.5\n",
    "room_x = 6.25\n",
    "room_y = 4\n",
    "print(room_x, room_y, floor_height, sep=\"x\")"
   ]
  },
  {
   "cell_type": "code",
   "execution_count": 7,
   "metadata": {},
   "outputs": [
    {
     "name": "stdout",
     "output_type": "stream",
     "text": [
      "<class 'int'>\n",
      "int str bool\n"
     ]
    }
   ],
   "source": [
    "# QA 5\n",
    "\n",
    "print(type(number))\n",
    "print(type(eggs).__name__, type(dish).__name__, type(is_tasty).__name__)"
   ]
  },
  {
   "cell_type": "markdown",
   "metadata": {},
   "source": [
    "QA 6 and QA 7 are exploratory excercises, so they have no correct answers. THeir purpose is to find out why using built-in names for variables is bad."
   ]
  },
  {
   "cell_type": "markdown",
   "metadata": {},
   "source": [
    "## Practical Assignment for recap answers"
   ]
  },
  {
   "cell_type": "code",
   "execution_count": 11,
   "metadata": {},
   "outputs": [
    {
     "name": "stdout",
     "output_type": "stream",
     "text": [
      "7\n"
     ]
    }
   ],
   "source": [
    "# 1\n",
    "lucky = 7\n",
    "print(lucky)"
   ]
  },
  {
   "cell_type": "code",
   "execution_count": 12,
   "metadata": {},
   "outputs": [
    {
     "name": "stdout",
     "output_type": "stream",
     "text": [
      "3\n"
     ]
    }
   ],
   "source": [
    "# 2\n",
    "deadly = 4\n",
    "lucky = lucky - deadly\n",
    "print(lucky)"
   ]
  },
  {
   "cell_type": "code",
   "execution_count": 13,
   "metadata": {},
   "outputs": [
    {
     "name": "stdout",
     "output_type": "stream",
     "text": [
      "7.77\n"
     ]
    }
   ],
   "source": [
    "# 3\n",
    "adjustment = 4.77\n",
    "lucky = lucky + adjustment\n",
    "print(lucky)"
   ]
  },
  {
   "cell_type": "code",
   "execution_count": 14,
   "metadata": {},
   "outputs": [
    {
     "name": "stdout",
     "output_type": "stream",
     "text": [
      "<class 'float'>\n",
      "<class 'int'>\n",
      "<class 'float'>\n"
     ]
    }
   ],
   "source": [
    "# 4\n",
    "print(type(lucky))\n",
    "print(type(deadly))\n",
    "print(type(adjustment))"
   ]
  }
 ],
 "metadata": {
  "kernelspec": {
   "display_name": "venv",
   "language": "python",
   "name": "python3"
  },
  "language_info": {
   "codemirror_mode": {
    "name": "ipython",
    "version": 3
   },
   "file_extension": ".py",
   "mimetype": "text/x-python",
   "name": "python",
   "nbconvert_exporter": "python",
   "pygments_lexer": "ipython3",
   "version": "3.12.0"
  },
  "orig_nbformat": 4
 },
 "nbformat": 4,
 "nbformat_minor": 2
}
