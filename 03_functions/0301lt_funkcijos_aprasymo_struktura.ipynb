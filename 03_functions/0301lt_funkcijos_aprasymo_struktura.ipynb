{
 "cells": [
  {
   "cell_type": "markdown",
   "metadata": {},
   "source": [
    "# Funkcijos aprašymo struktūra\n",
    "\n",
    "Python programavimo kalboje funkcijos aprašymo struktūra yra pagrindinė dalis, leidžianti mums kurti ir naudoti funkcijas. \n",
    "Funkcijos deklaracija prasideda žodžiu `def`, kurį seka funkcijos `pavadinimas` ir `argumentai`, esantys skliaustuose.\n",
    "Funkcijos veiksmai yra aprašomi įrėmintame bloke po funkcijos apibrėžimu. \n",
    "\n",
    "Kad būtų aiškiau, štai kelios svarbios dalys:\n",
    "\n",
    "- Žodis `def` praneša Python, kad mes aprašome funkciją.\n",
    "- `function_name` tai yra pavadinimas, kurį mes pasirenkame savo funkcijai. Jis turi atspindėti funkcijos tikslą.\n",
    "- `arguments` yra reikšmės, kurias mes paduosime funkcijai kaip įvestį. Tai kaip kintamieji, kurie bus naudojami funkcijos viduje.\n",
    "\n",
    "Norint suprasti, kaip tai veikia, pažiūrėkime į šį pavyzdį:"
   ]
  },
  {
   "cell_type": "code",
   "execution_count": 1,
   "metadata": {},
   "outputs": [
    {
     "name": "stdout",
     "output_type": "stream",
     "text": [
      "Sveiki, Jonas!\n"
     ]
    }
   ],
   "source": [
    "def sveikinti(vardas):\n",
    "    \"\"\"Ši funkcija sveikina asmenį, perduotą kaip argumentą.\"\"\"\n",
    "    print(f\"Sveiki, {vardas}!\")\n",
    "\n",
    "# Pavyzdžio Panaudojimas\n",
    "sveikinti(\"Jonas\")\n",
    "sveikinti(\"Studentas\")"
   ]
  },
  {
   "cell_type": "markdown",
   "metadata": {},
   "source": [
    "Šiame pavyzdyje `sveikinti` yra funkcijos pavadinimas, ji priima vieną argumentą (`vardas`), ir pasveikina asmenį su nurodytu vardu. \n",
    "\n",
    "Tada, funkcija `sveikinti` yra iškviesta su argumentu \"Jonas\", ir rezultatas yra atspausdinamas į konsolę."
   ]
  },
  {
   "cell_type": "markdown",
   "metadata": {},
   "source": [
    "Pavyzdys, kaip apibrėžti ir iškviesti funkciją, kuri priima du argumentus ir juos spausdina į konsolę."
   ]
  },
  {
   "cell_type": "code",
   "execution_count": 2,
   "metadata": {},
   "outputs": [
    {
     "name": "stdout",
     "output_type": "stream",
     "text": [
      "Vardas: Jonas\n",
      "Amžius: 25\n"
     ]
    }
   ],
   "source": [
    "def asmens_informacija(vardas, amžius):\n",
    "    \"\"\"Ši funkcija priima du argumentus ir juos spausdina į konsolę.\"\"\"\n",
    "    print(f\"Vardas: {vardas}\")\n",
    "    print(f\"Amžius: {amžius}\")\n",
    "\n",
    "asmens_informacija(\"Jonas\", 25)"
   ]
  },
  {
   "cell_type": "markdown",
   "metadata": {},
   "source": [
    "Šiame pavyzdyje spausdinti_argumentus funkcija apibrėžta priimti du argumentus (vardą ir amžių) ir juos spausdina į konsolę.\n",
    "\n",
    "Tada funkcija yra iškviesta su argumentais \"Jonas\" ir 25."
   ]
  },
  {
   "cell_type": "markdown",
   "metadata": {},
   "source": [
    "### Greitas uždavinys 1\n",
    "\n",
    "Aprašykite funkciją ploto apskaičiavimui, kuri priima du parametrus, ilgį ir plotį, ir apskaičiuoja ir atspausdina stačiakampio plotą.\n"
   ]
  },
  {
   "cell_type": "code",
   "execution_count": 13,
   "metadata": {},
   "outputs": [
    {
     "name": "stdout",
     "output_type": "stream",
     "text": [
      "Staciakampio plotas:  96 kvadratiniai centimetrai \n"
     ]
    }
   ],
   "source": [
    "def ploto_skaicioukle(ilgis, plotis):\n",
    "    '''Staciakampio ploto ksiciuokle '''\n",
    "    plotas = ilgis * plotis\n",
    "    print(f'Staciakampio plotas:  {plotas} kvadratiniai centimetrai ')\n",
    "ploto_skaicioukle(8, 12)"
   ]
  },
  {
   "cell_type": "markdown",
   "metadata": {},
   "source": [
    "---\n",
    "\n",
    "## `if`, `elif`, `else` naudojimas Funkcijoje\n",
    "\n",
    "Galite naudoti sąlygas, tokias kaip `if`, `elif` arba `else` ir taip funkcijoje vykdyti skirtingus veiksmus pagal konkrečias sąlygas.\n",
    "\n",
    "**Štai pavyzdys**:"
   ]
  },
  {
   "cell_type": "code",
   "execution_count": 14,
   "metadata": {},
   "outputs": [],
   "source": [
    "def ivertinti_pazymi(balas):\n",
    "    \"\"\"Ši funkcija įvertina ir atspausdina pažymį pagal pateiktą balą.\"\"\"\n",
    "    if balas >= 90:\n",
    "        print(\"A: Puiku\")\n",
    "    elif 80 <= balas < 90:\n",
    "        print(\"B: Geras\")\n",
    "    elif 70 <= balas < 80:\n",
    "        print(\"C: Patenkinamas\")\n",
    "    elif 60 <= balas < 70:\n",
    "        print(\"D: Reikia Pataisymų\")\n",
    "    else:\n",
    "        print(\"F: Nepavyko\")"
   ]
  },
  {
   "cell_type": "code",
   "execution_count": 15,
   "metadata": {},
   "outputs": [
    {
     "name": "stdout",
     "output_type": "stream",
     "text": [
      "C: Patenkinamas\n"
     ]
    }
   ],
   "source": [
    "# Pavyzdžio panaudojimas\n",
    "ivertinti_pazymi(75)"
   ]
  },
  {
   "cell_type": "markdown",
   "metadata": {},
   "source": [
    "Šiame pavyzdyje `ivertinti_pazymi` funkcija priima balą kaip `argumentą` ir naudoja `if`, `elif` ir `else` pareiškas, kad nustatytų ir spausdintų atitinkamą pažymį pagal pateiktą balą. \n",
    "\n",
    "Tada funkcija yra iškviesta su argumentu `75`."
   ]
  },
  {
   "cell_type": "markdown",
   "metadata": {},
   "source": [
    "**Antrasis pavyzdys**:"
   ]
  },
  {
   "cell_type": "code",
   "execution_count": 16,
   "metadata": {},
   "outputs": [],
   "source": [
    "def ar_lyginis_ar_nelyginis(skaicius):\n",
    "    \"\"\"Ši funkcija nustato, ar duotas skaičius yra lyginis arba nelyginis.\"\"\"\n",
    "    if skaicius % 2 == 0:\n",
    "        rezultatas = \"lyginis\"        \n",
    "    else:\n",
    "        rezultatas = \"nelyginis\"\n",
    "    print(f\"Skaičius {skaicius} yra {rezultatas}.\")"
   ]
  },
  {
   "cell_type": "code",
   "execution_count": 17,
   "metadata": {},
   "outputs": [],
   "source": [
    "# Pavyzdžio panaudojimas\n",
    "ar_lyginis_ar_nelyginis(69)\n",
    "ar_lyginis_ar_nelyginis(42)"
   ]
  },
  {
   "cell_type": "markdown",
   "metadata": {},
   "source": [
    "Šiame pavyzdyje `ar_lyginis_ar_nelyginis` funkcija priima skaičių kaip `argumentą` ir naudoja sąlyginę išraišką (`if-else`), kad patikrintų, ar skaičius yra `lyginis` arba `nelyginis`. \n",
    "\n",
    "Tada rezultatas spausdinamas į konsolę. Funkcija yra iškviesta su argumentu 69, ir 42."
   ]
  },
  {
   "cell_type": "markdown",
   "metadata": {},
   "source": [
    "Trumpai tariant, Python funkcija apibrėžiama naudojant `def` pareiškimą, po kurio seka funkcijos `pavadinimas` ir jos `argumentai`. Funkcijoje galite naudoti sąlygas, kad atliktumėte skirtingus veiksmus pagal sąlygas, ir funkcijos gali priimti bet kokį kiekį argumentų arba visai jų neturėti."
   ]
  },
  {
   "cell_type": "markdown",
   "metadata": {},
   "source": [
    "### Greitas uždavinys 2\n",
    "\n",
    "Patikrinkite, ar skaičius yra teigiamas\n",
    "\n",
    "Parašykite funkciją, kuri priima kintamąji kaip argumenta, ir jeigu tai yra skaičius, patikrina ar jis teigiamas.\n",
    "Funkcijos rezultatai ir klaidos turi būti tikrinami ir spausdinami."
   ]
  },
  {
   "cell_type": "code",
   "execution_count": 21,
   "metadata": {},
   "outputs": [
    {
     "name": "stdout",
     "output_type": "stream",
     "text": [
      "skaicius -1 yra neigemas.\n"
     ]
    }
   ],
   "source": [
    "def ar_teigemas(skaiciai):\n",
    "    if skaiciai > 0:\n",
    "        rezultatas = 'teigemas'\n",
    "    else:\n",
    "        rezultatas = 'neigemas'\n",
    "    print(f'skaicius {skaiciai} yra {rezultatas}.')\n",
    "ar_teigemas(-1)"
   ]
  },
  {
   "cell_type": "markdown",
   "metadata": {},
   "source": [
    "### Greitas uždavinys 3\n",
    "\n",
    "Parašykite funkciją, kuri sulygina du skaičius, ir parašo jų tarpusavio santykį (lygūs, pirmas didesnis už antrą, pirmas mažesnis už antrą, ir pan.)"
   ]
  },
  {
   "cell_type": "code",
   "execution_count": 2,
   "metadata": {},
   "outputs": [
    {
     "name": "stdout",
     "output_type": "stream",
     "text": [
      "3 yra mazesnis 6\n",
      "6 didesnis 3\n"
     ]
    }
   ],
   "source": [
    "def didesnis_skaicius(skaicius, skaicius2):\n",
    "    if skaicius > skaicius2:\n",
    "        print(skaicius, \"didesnis\", skaicius2)\n",
    "    elif skaicius == skaicius2:\n",
    "        print(skaicius, \"lygus\", skaicius2)\n",
    "    else:\n",
    "        print(skaicius, \"yra mazesnis\", skaicius2)\n",
    "didesnis_skaicius(3, 6)\n",
    "didesnis_skaicius(6, 3)\n",
    "\n"
   ]
  }
 ],
 "metadata": {
  "kernelspec": {
   "display_name": "venv",
   "language": "python",
   "name": "python3"
  },
  "language_info": {
   "codemirror_mode": {
    "name": "ipython",
    "version": 3
   },
   "file_extension": ".py",
   "mimetype": "text/x-python",
   "name": "python",
   "nbconvert_exporter": "python",
   "pygments_lexer": "ipython3",
   "version": "3.12.0"
  }
 },
 "nbformat": 4,
 "nbformat_minor": 2
}
