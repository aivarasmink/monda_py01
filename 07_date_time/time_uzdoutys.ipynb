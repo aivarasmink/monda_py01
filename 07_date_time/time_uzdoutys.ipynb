{
 "cells": [
  {
   "cell_type": "code",
   "execution_count": 6,
   "metadata": {},
   "outputs": [
    {
     "name": "stdout",
     "output_type": "stream",
     "text": [
      "25:36\n"
     ]
    }
   ],
   "source": [
    "from datetime import datetime\n",
    "\n",
    "dabar = datetime.now() # dabar = datetime.datetime.now()\n",
    "format_string = \"%M:%S\" # format_string = \"%M:%S\"\n",
    "\n",
    "laikas = dabar.strftime(format_string) \n",
    "print(laikas)"
   ]
  },
  {
   "cell_type": "code",
   "execution_count": 7,
   "metadata": {},
   "outputs": [
    {
     "name": "stdout",
     "output_type": "stream",
     "text": [
      "Liko 170 dienos (-ų) iki gimtadienio.\n"
     ]
    }
   ],
   "source": [
    "from datetime import datetime, timedelta # datetime modulio importavimas\n",
    "\n",
    "def dienos_iki_gimtadienio(gimimo_data):\n",
    "    gimimo_data_format = datetime.strptime(gimimo_data, \"%Y-%m-%d\") # datetime formatuojimas\n",
    "    siandiena = datetime.now() # datetime formatuojimas\n",
    "    gimtadienio_data = gimimo_data_format.replace(year=siandiena.year) \n",
    "\n",
    "    if gimtadienio_data < siandiena:\n",
    "        gimtadienio_data = gimtadienio_data.replace(year=siandiena.year + 1) \n",
    "\n",
    "    skirtumas = gimtadienio_data - siandiena \n",
    "    return skirtumas.days\n",
    "\n",
    "gimimo_data = \"1986-07-05\"\n",
    "print(f\"Liko {dienos_iki_gimtadienio(gimimo_data)} dienos (-ų) iki gimtadienio.\")"
   ]
  },
  {
   "cell_type": "code",
   "execution_count": 8,
   "metadata": {},
   "outputs": [
    {
     "name": "stdout",
     "output_type": "stream",
     "text": [
      "Pridėjus 48 valandas: 2024-01-18 09:30\n"
     ]
    }
   ],
   "source": [
    "from datetime import datetime, timedelta\n",
    "\n",
    "def prideti_48_valandas(data_laikas):\n",
    "    format_string = \"%Y-%m-%d %H:%M\" # formatas, kurio panaudotas data_laikas\n",
    "    date_object = datetime.strptime(data_laikas, format_string) # date_object = datetime.strptime(\"2024-01-16 09:30\", \"%Y-%m-%\n",
    "    naujas_date_object = date_object + timedelta(hours=48) # naujas_date_object = date_object + timedelta(hours=48)\n",
    "    naujas_data_laikas = naujas_date_object.strftime(format_string) # naujas_data_laikas = naujas_date_object.strftime(\"%Y-%m-%d %H:%M\")\n",
    "    return naujas_data_laikas\n",
    "\n",
    "data_laikas = \"2024-01-16 09:30\"\n",
    "print(f\"Pridėjus 48 valandas: {prideti_48_valandas(data_laikas)}\")"
   ]
  },
  {
   "cell_type": "code",
   "execution_count": 10,
   "metadata": {},
   "outputs": [
    {
     "name": "stdout",
     "output_type": "stream",
     "text": [
      "Laikotarpio 1: 1671395400\n",
      "Laikotarpio 2: 1674000000\n",
      "Laikotarpių skirtumas dienomis: 30\n"
     ]
    }
   ],
   "source": [
    "from datetime import datetime\n",
    "\n",
    "def skirtumas_dienomis(timestamp1, timestamp2): # timestamp is a number of seconds since 1970-01-01 00:00:00\n",
    "    date_object1 = datetime.fromtimestamp(timestamp1)\n",
    "    date_object2 = datetime.fromtimestamp(timestamp2)\n",
    "    skirtumas = abs(date_object2 - date_object1) # abs means absolute value\n",
    "    return skirtumas.days\n",
    "\n",
    "timestamp1 = 1671395400\n",
    "timestamp2 = 1674000000\n",
    "print(f\"Laikotarpio 1: {timestamp1}\")\n",
    "print(f\"Laikotarpio 2: {timestamp2}\")\n",
    "print(f\"Laikotarpių skirtumas dienomis: {skirtumas_dienomis(timestamp1, timestamp2)}\")"
   ]
  },
  {
   "cell_type": "code",
   "execution_count": 9,
   "metadata": {},
   "outputs": [
    {
     "name": "stdout",
     "output_type": "stream",
     "text": [
      "Ši data yra Antradienis\n"
     ]
    }
   ],
   "source": [
    "from datetime import datetime\n",
    "\n",
    "def savaites_diena(data):\n",
    "    format_string = \"%Y-%m-%d\"\n",
    "    date_object = datetime.strptime(data, format_string) \n",
    "    dienos = [\"Pirmadienis\", \"Antradienis\", \"Trečiadienis\", \"Ketvirtadienis\", \"Penktadienis\", \"Šeštadienis\", \"Sekmadienis\"]\n",
    "    return dienos[date_object.weekday()]\n",
    "\n",
    "data = \"2024-12-31\"\n",
    "print(f\"Ši data yra {savaites_diena(data)}\") "
   ]
  }
 ],
 "metadata": {
  "kernelspec": {
   "display_name": "venv",
   "language": "python",
   "name": "python3"
  },
  "language_info": {
   "codemirror_mode": {
    "name": "ipython",
    "version": 3
   },
   "file_extension": ".py",
   "mimetype": "text/x-python",
   "name": "python",
   "nbconvert_exporter": "python",
   "pygments_lexer": "ipython3",
   "version": "3.12.0"
  }
 },
 "nbformat": 4,
 "nbformat_minor": 2
}
