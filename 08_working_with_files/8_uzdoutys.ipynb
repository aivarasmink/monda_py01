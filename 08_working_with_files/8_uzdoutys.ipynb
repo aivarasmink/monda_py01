{
 "cells": [
  {
   "cell_type": "markdown",
   "metadata": {},
   "source": [
    "Pirma užduotis\n",
    "Atidarykite tekstiniame faile esančią eilutę ir atspausdinkite ją, pakeičiant visus didžiąsias raides mažosiomis ir atvirkščiai. Failo pavadinimas: \"pakeitimai.txt\".💡 Galite naudoti swapcase() funkciją."
   ]
  },
  {
   "cell_type": "markdown",
   "metadata": {},
   "source": [
    "Lietuviskas raidesi iskodouti (\"eilutes.text\", \"a\", encoding=\"utf-8\")"
   ]
  },
  {
   "cell_type": "code",
   "execution_count": 1,
   "metadata": {},
   "outputs": [
    {
     "name": "stdout",
     "output_type": "stream",
     "text": [
      "Originali Eilutė: Saulelydis zÄ—ri zeme svelniai.\n",
      "\n",
      "Pakeista Eilutė: sAULELYDIS Zä—RI ZEME SVELNIAI.\n",
      "\n"
     ]
    }
   ],
   "source": [
    "try: # cia as bugu ieskau su siou kodu\n",
    "    with open(\"pakeitimai.txt\", \"r\") as failas:\n",
    "        eilute = failas.readline()\n",
    "        \n",
    "        if not eilute:\n",
    "            print(\"Failas yra tuščias.\")\n",
    "        else:\n",
    "            nauja_eilute = eilute.swapcase()\n",
    "            print(f\"Originali Eilutė: {eilute}\")\n",
    "            print(f\"Pakeista Eilutė: {nauja_eilute}\")\n",
    "\n",
    "except FileNotFoundError:\n",
    "    print(\"Failas nerastas. Įsitikinkite, kad 'pakeitimai.txt' egzistuoja nurodytame kelyje.\")\n",
    "except Exception as e:\n",
    "    print(f\"Ivyko klaida: {e}\")\n"
   ]
  },
  {
   "cell_type": "code",
   "execution_count": 2,
   "metadata": {},
   "outputs": [
    {
     "name": "stdout",
     "output_type": "stream",
     "text": [
      "sAULELYDIS Zä—RI ZEME SVELNIAI.\n",
      "\n"
     ]
    }
   ],
   "source": [
    "with open(\"pakeitimai.txt\", \"r\") as failas:\n",
    "    eilute = failas.readline()\n",
    "    nauja_eilute = eilute.swapcase()\n",
    "    print(nauja_eilute)\n"
   ]
  },
  {
   "cell_type": "code",
   "execution_count": 33,
   "metadata": {},
   "outputs": [
    {
     "name": "stdout",
     "output_type": "stream",
     "text": [
      "Done\n"
     ]
    }
   ],
   "source": [
    "with open(\"skaiciai.txt\", \"w\") as f:\n",
    "    for i in range(10):\n",
    "        f.write(str(i) + \"\\n\")\n",
    "    print(\"Done\")"
   ]
  },
  {
   "cell_type": "code",
   "execution_count": 3,
   "metadata": {},
   "outputs": [
    {
     "name": "stdout",
     "output_type": "stream",
     "text": [
      "scia medzius.\n",
      "Vejas nerimsta, snypscia ir svilpia.\n"
     ]
    }
   ],
   "source": [
    "with open(\"pakeitimai.txt\", \"r\") as f:\n",
    "    f.seek(0,2)\n",
    "    f_size = f.tell()\n",
    "    middle = f_size // 2\n",
    "    f.seek(middle)\n",
    "    remaining_content = f.read()\n",
    "    print(remaining_content)"
   ]
  },
  {
   "cell_type": "code",
   "execution_count": 4,
   "metadata": {},
   "outputs": [
    {
     "name": "stdout",
     "output_type": "stream",
     "text": [
      "scia medzius.\n",
      "Vejas nerimsta, snypscia ir svilpia.\n"
     ]
    }
   ],
   "source": [
    "with open(\"pakeitimai.txt\", \"r\") as f:\n",
    "    f_size = f.seek(0, 2)\n",
    "    middle_point = f_size // 2\n",
    "    f.seek(middle_point)\n",
    "    remaining_content = f.read()\n",
    "    print(remaining_content)"
   ]
  },
  {
   "cell_type": "code",
   "execution_count": 36,
   "metadata": {},
   "outputs": [],
   "source": [
    "with open(\"eilutes.txt\", \"w\", encoding=\"utf-8\") as failas:\n",
    "    failas.write(\"Saulėlydis žėri žemę švelniai.\\n\")\n",
    "    failas.write(\"Vakare vėjas šnypščia medžius.\\n\")\n",
    "    failas.write(\"Vėjas nerimsta, šnypščia ir švilpia.\\n\")"
   ]
  },
  {
   "cell_type": "code",
   "execution_count": 37,
   "metadata": {},
   "outputs": [],
   "source": [
    "with open(\"eilutes.txt\", \"a\", encoding=\"utf-8\") as failas:\n",
    "    failas.write(\"Jūsų vardas ir pavardė\\n\")  # Čia įrašykite savo vardą ir pavardę"
   ]
  },
  {
   "cell_type": "code",
   "execution_count": 38,
   "metadata": {},
   "outputs": [
    {
     "name": "stdout",
     "output_type": "stream",
     "text": [
      "Vakare vėjas šnypščia medžius.\n",
      "\n"
     ]
    }
   ],
   "source": [
    "with open(\"eilutes.txt\", \"r\", encoding=\"utf-8\") as failas:\n",
    "    for eilute in failas:\n",
    "        if \"vėjas\" in eilute:\n",
    "            print(eilute)\n"
   ]
  }
 ],
 "metadata": {
  "kernelspec": {
   "display_name": "venv",
   "language": "python",
   "name": "python3"
  },
  "language_info": {
   "codemirror_mode": {
    "name": "ipython",
    "version": 3
   },
   "file_extension": ".py",
   "mimetype": "text/x-python",
   "name": "python",
   "nbconvert_exporter": "python",
   "pygments_lexer": "ipython3",
   "version": "3.12.0"
  }
 },
 "nbformat": 4,
 "nbformat_minor": 2
}
