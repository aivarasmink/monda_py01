{
 "cells": [
  {
   "cell_type": "markdown",
   "metadata": {},
   "source": [
    "# Python `os` Module\n",
    "\n",
    "The `os` module is a standard Python library module that provides functions and capabilities to interact with the operating system's functions. It allows you to work with the file system, directory structure, processes, environment variables, and more.\n",
    "\n",
    "## Navigating the Directory Tree\n",
    "\n",
    "- `os.getcwd()`: Returns the path of the current working directory.\n",
    "- `os.chdir(path)`: Changes the current working directory to the specified path.\n",
    "\n",
    "**Example:**"
   ]
  },
  {
   "cell_type": "code",
   "execution_count": null,
   "metadata": {},
   "outputs": [],
   "source": [
    "import os\n",
    "\n",
    "# Get the current working directory\n",
    "print(\"Current working directory:\", os.getcwd())\n",
    "\n",
    "# Change the working directory to another directory\n",
    "os.chdir('/new_directory')\n",
    "print(\"Current working directory:\", os.getcwd())"
   ]
  },
  {
   "cell_type": "markdown",
   "metadata": {},
   "source": [
    "## Checking File Existence\n",
    "The os.path module provides functions to check the existence of files and directories.\n",
    "\n",
    "- `os.path.exists(path)`: Returns True if the specified path exists, and False otherwise.\n",
    "\n",
    "Example:"
   ]
  },
  {
   "cell_type": "code",
   "execution_count": 2,
   "metadata": {},
   "outputs": [
    {
     "name": "stdout",
     "output_type": "stream",
     "text": [
      "File 'example.txt' does not exist.\n"
     ]
    }
   ],
   "source": [
    "import os\n",
    "\n",
    "file_path = 'example.txt'\n",
    "if os.path.exists(file_path):\n",
    "    print(f\"File '{file_path}' exists.\")\n",
    "else:\n",
    "    print(f\"File '{file_path}' does not exist.\")\n"
   ]
  },
  {
   "cell_type": "markdown",
   "metadata": {},
   "source": [
    "## Creating Directories\n",
    "`os.makedirs(path)`: Creates the entire directory tree if it does not exist.\n",
    "\n",
    "Example:"
   ]
  },
  {
   "cell_type": "code",
   "execution_count": 3,
   "metadata": {},
   "outputs": [
    {
     "name": "stdout",
     "output_type": "stream",
     "text": [
      "Directory 'new_directory/subdirectory' created.\n"
     ]
    }
   ],
   "source": [
    "import os\n",
    "\n",
    "directory_path = 'new_directory/subdirectory'\n",
    "if not os.path.exists(directory_path):\n",
    "    os.makedirs(directory_path)\n",
    "    print(f\"Directory '{directory_path}' created.\")\n",
    "else:\n",
    "    print(f\"Directory '{directory_path}' already exists.\")\n"
   ]
  },
  {
   "cell_type": "markdown",
   "metadata": {},
   "source": [
    "## `Quick Assignment 1: Creating a Directory`\n",
    "\n",
    "**Task Description:**  \n",
    "1. Create a new directory named \"My_Directory\" in your current working directory. \n",
    "1. Check if the directory was successfully created and print the result."
   ]
  },
  {
   "cell_type": "code",
   "execution_count": 7,
   "metadata": {},
   "outputs": [
    {
     "name": "stdout",
     "output_type": "stream",
     "text": [
      "c:\\Users\\aivi1\\CodeAcademy\\python_intro\\monda_py01\\08_working_with_files\n"
     ]
    }
   ],
   "source": [
    "import os\n",
    "\n",
    "os.makedirs(\"My_directory\")\n",
    "\n",
    "\n",
    "print(os.getcwd())"
   ]
  },
  {
   "cell_type": "markdown",
   "metadata": {},
   "source": [
    "## Deleting Files\n",
    "The `os.remove(path)` function allows you to delete a specified file. It takes one argument, which is the file path.\n",
    "\n",
    "Example:"
   ]
  },
  {
   "cell_type": "code",
   "execution_count": null,
   "metadata": {},
   "outputs": [],
   "source": [
    "import os\n",
    "\n",
    "file_path = 'example.txt'\n",
    "\n",
    "if os.path.exists(file_path):\n",
    "    os.remove(file_path)\n",
    "    print(f\"File '{file_path}' deleted.\")\n",
    "else:\n",
    "    print(f\"File '{file_path}' does not exist.\")\n"
   ]
  },
  {
   "cell_type": "markdown",
   "metadata": {},
   "source": [
    "## Deleting Directories\n",
    "`os.rmdir(path)`: Deletes the specified directory. The directory must be empty, or this function will raise an error.\n",
    "\n",
    "Example:"
   ]
  },
  {
   "cell_type": "code",
   "execution_count": null,
   "metadata": {},
   "outputs": [],
   "source": [
    "import os\n",
    "\n",
    "directory_path = 'new_directory'\n",
    "\n",
    "if os.path.exists(directory_path):\n",
    "    if not os.listdir(directory_path):\n",
    "        os.rmdir(directory_path)\n",
    "        print(f\"Directory '{directory_path}' deleted.\")\n",
    "    else:\n",
    "        print(f\"Directory '{directory_path}' is not empty.\")\n",
    "else:\n",
    "    print(f\"Directory '{directory_path}' does not exist.\")\n"
   ]
  },
  {
   "cell_type": "markdown",
   "metadata": {},
   "source": [
    "## Deleting an Entire Directory Tree\n",
    "`os.removedirs(path)`: Allows you to delete the entire directory tree if every directory in the path is empty.\n",
    "\n",
    "Example:"
   ]
  },
  {
   "cell_type": "code",
   "execution_count": null,
   "metadata": {},
   "outputs": [],
   "source": [
    "import os\n",
    "\n",
    "directory_tree_path = 'new_directory/subdirectory'\n",
    "\n",
    "if os.path.exists(directory_tree_path):\n",
    "    os.removedirs(directory_tree_path)\n",
    "    print(f\"Directory tree '{directory_tree_path}' deleted.\")\n",
    "else:\n",
    "    print(f\"Directory tree '{directory_tree_path}' does not exist.\")\n"
   ]
  },
  {
   "cell_type": "markdown",
   "metadata": {},
   "source": [
    "## Listing Directory Contents\n",
    "The `os.listdir` function is used to retrieve the contents of a directory as a list. It returns a list of all the elements in the directory.\n",
    "\n",
    "Example:"
   ]
  },
  {
   "cell_type": "code",
   "execution_count": null,
   "metadata": {},
   "outputs": [],
   "source": [
    "import os\n",
    "\n",
    "directory_path = '.'  # Your current directory\n",
    "contents = os.listdir(directory_path)\n",
    "\n",
    "print(\"Directory Contents:\")\n",
    "for element in contents:\n",
    "    print(element)\n"
   ]
  },
  {
   "cell_type": "markdown",
   "metadata": {},
   "source": [
    "## `Quick Assignment 2: Listing Files and Directories`\n",
    "\n",
    "**Task Description:**  \n",
    "1. Write a program that would examine the current working directory\n",
    "1. Print all the found files and directories."
   ]
  },
  {
   "cell_type": "code",
   "execution_count": 9,
   "metadata": {},
   "outputs": [
    {
     "name": "stdout",
     "output_type": "stream",
     "text": [
      "Contents of the current working directory:\n",
      "0801en_answers.ipynb\n",
      "0801en_file_read_write.ipynb\n",
      "0802en_json_library.ipynb\n",
      "0803en_answers.ipynb\n",
      "0803en_os_module.ipynb\n",
      "0804en_binary_files.ipynb\n",
      "0805en_pickle_library.ipynb\n",
      "8_uzdoutys.ipynb\n",
      "asmuo.json\n",
      "eilute.txt\n",
      "eilutes.txt\n",
      "JSON_l.ipynb\n",
      "My_directory\n",
      "pakeitimai.txt\n",
      "skaiciai.txt\n"
     ]
    }
   ],
   "source": [
    "import os\n",
    "\n",
    "def list_files_and_directories():\n",
    "    # Get the current working directory\n",
    "    current_directory = os.getcwd()\n",
    "\n",
    "    # List all files and directories in the current working directory\n",
    "    contents = os.listdir(current_directory)\n",
    "\n",
    "    if contents:\n",
    "        print(\"Contents of the current working directory:\")\n",
    "        for content in contents:\n",
    "            print(content)\n",
    "    else:\n",
    "        print(\"The current working directory is empty.\")\n",
    "\n",
    "if __name__ == \"__main__\":\n",
    "    list_files_and_directories()\n"
   ]
  },
  {
   "cell_type": "markdown",
   "metadata": {},
   "source": [
    "## Getting File and Directory Information\n",
    "\n",
    "The `os.stat` function is used to retrieve information about a file or directory, such as size, modification time, and more. It returns an `os.stat_result` object with various attributes:\n",
    "\n",
    "- `st_mode`: These are the file protection bits that specify the file type and permissions. It is used to determine the file type (e.g., regular file, directory, symbolic link) and permissions (read, write, execute).\n",
    "\n",
    "- `st_ino`: Inode number is a unique file identifier in the file system, used in Unix-like systems. Windows does not support this attribute, and `os.stat` returns it with a value of 0.\n",
    "\n",
    "- `st_dev`: Device identifier where the file resides.\n",
    "\n",
    "- `st_nlink`: The number of hard links to the file or directory. Typically, this is 1 for files and can be greater for directories.\n",
    "\n",
    "- `st_uid`: User ID used in Unix-like systems to identify the owner of the file or directory. Windows does not support this attribute, and `os.stat` returns it with a value of 0.\n",
    "\n",
    "- `st_gid`: Group ID used in Unix-like systems to identify the file or directory's owning group. Windows does not support this attribute, and `os.stat` returns it with a value of 0.\n",
    "\n",
    "- `st_size`: File size in bytes. This size is not applicable to directories.\n",
    "\n",
    "- `st_atime`: The time of the last access to the file or directory, indicating when it was last read. The time is given in seconds since the epoch (1970-01-01 00:00:00 UTC).\n",
    "\n",
    "- `st_mtime`: The time of the last modification of the file or directory, indicating when it was last changed. The time is given in seconds since the epoch (1970-01-01 00:00:00 UTC).\n",
    "\n",
    "- `st_ctime`: The time of the last change to the file or directory's status, including changes to permissions, links, or size. The time is given in seconds since the epoch (1970-01-01 00:00:00 UTC).\n",
    "\n",
    "- `st_blksize`: Block size in bytes, used primarily in Linux systems to manage file or directory storage more efficiently. macOS and Windows do not support this attribute.\n",
    "\n",
    "- `st_blocks`: The number of blocks occupied by the file or directory, primarily used in Linux systems for storage management. macOS and Windows do not support this attribute.\n",
    "\n",
    "**Example:**"
   ]
  },
  {
   "cell_type": "code",
   "execution_count": null,
   "metadata": {},
   "outputs": [],
   "source": [
    "import os\n",
    "\n",
    "file_path = 'new_directory'\n",
    "\n",
    "file_stats = os.stat(file_path)\n",
    "\n",
    "print(file_stats)\n"
   ]
  },
  {
   "cell_type": "markdown",
   "metadata": {},
   "source": [
    "Here's a combined example of using `os.listdir` and `os.stat` together:"
   ]
  },
  {
   "cell_type": "code",
   "execution_count": null,
   "metadata": {},
   "outputs": [],
   "source": [
    "import os\n",
    "\n",
    "directory_path = '.'\n",
    "\n",
    "# Get the directory contents\n",
    "contents = os.listdir(directory_path)\n",
    "\n",
    "for element in contents:\n",
    "    element_path = os.path.join(directory_path, element)  # Concatenate the directory and element name\n",
    "\n",
    "    # Check if it's a file\n",
    "    if os.path.isfile(element_path):\n",
    "        file_stats = os.stat(element_path)\n",
    "        print(f\"File: {element}\")\n",
    "        print(f\"  Size: {file_stats.st_size} bytes\")\n",
    "        print(f\"  Last Modification Date: {file_stats.st_mtime}\")\n",
    "    elif os.path.isdir(element_path):\n",
    "        print(f\"Directory: {element}\")\n"
   ]
  },
  {
   "cell_type": "markdown",
   "metadata": {},
   "source": [
    "This tutorial covers essential `os` module functions for working with the file system and directories in Python."
   ]
  },
  {
   "cell_type": "markdown",
   "metadata": {},
   "source": [
    "## `Quick Assignment 3: Creating and Deleting a File`\n",
    "\n",
    "**Task Description:**  \n",
    "1. Create a new file named \"test.txt\" in your current working directory. \n",
    "1. Write a program that checks if the file \"test.txt\" exists and deletes it if it does. \n",
    "1. Print the result to confirm the successful deletion.\n"
   ]
  },
  {
   "cell_type": "code",
   "execution_count": 20,
   "metadata": {},
   "outputs": [],
   "source": [
    "import os\n",
    "\n",
    "file_path = \"test.txt\"\n",
    "\n",
    "# Create the file\n",
    "with open(file_path, \"w\") as f:\n",
    "    f.write(\"This is a test file.\")\n"
   ]
  },
  {
   "cell_type": "code",
   "execution_count": 21,
   "metadata": {},
   "outputs": [
    {
     "name": "stdout",
     "output_type": "stream",
     "text": [
      "File 'test.txt' deleted successfully.\n"
     ]
    }
   ],
   "source": [
    "# Check if the file exists and delete it\n",
    "if os.path.exists(file_path):\n",
    "    os.remove(file_path)\n",
    "    print(f\"File '{file_path}' deleted successfully.\")\n",
    "else:\n",
    "    print(f\"File '{file_path}' does not exist.\")"
   ]
  }
 ],
 "metadata": {
  "kernelspec": {
   "display_name": "Python 3",
   "language": "python",
   "name": "python3"
  },
  "language_info": {
   "codemirror_mode": {
    "name": "ipython",
    "version": 3
   },
   "file_extension": ".py",
   "mimetype": "text/x-python",
   "name": "python",
   "nbconvert_exporter": "python",
   "pygments_lexer": "ipython3",
   "version": "3.12.0"
  }
 },
 "nbformat": 4,
 "nbformat_minor": 2
}
