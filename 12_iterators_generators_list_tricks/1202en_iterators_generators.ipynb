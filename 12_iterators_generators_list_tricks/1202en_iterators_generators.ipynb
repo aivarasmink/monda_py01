{
 "cells": [
  {
   "cell_type": "markdown",
   "metadata": {},
   "source": [
    "# Iterators and Generators\n",
    "\n",
    "## Iterator and `iter()` method\n",
    "\n",
    "An iterator is an object that supports iteration over elements or values.\n",
    "\n",
    "Iterator utilizes a set of two methods: `iter()` and `next()`.\n",
    "\n",
    "**Example**:"
   ]
  },
  {
   "cell_type": "code",
   "execution_count": null,
   "metadata": {},
   "outputs": [],
   "source": [
    "# Create a list\n",
    "my_list = [1, 2, 3, 4, 5]\n",
    "\n",
    "# Create an iterator object\n",
    "my_iterator = iter(my_list)\n",
    "\n",
    "# Iterate over iterator elements using the next() method\n",
    "try:\n",
    "    print(next(my_iterator))  # 1\n",
    "    print(next(my_iterator))  # 2\n",
    "    print(next(my_iterator))  # 3\n",
    "    print(next(my_iterator))  # 4\n",
    "    print(next(my_iterator))  # 5\n",
    "    print(next(my_iterator))  # Raises StopIteration exception\n",
    "except StopIteration:\n",
    "    print(\"Iteration finished\")\n"
   ]
  },
  {
   "cell_type": "markdown",
   "metadata": {},
   "source": [
    "- In this program, we created a list \"my_list\" and then created an iterator object \"my_iterator\" using the `iter()` method. \n",
    "- We then iterated over the iterator elements using the `next()` method, printing each element, and used a try-except block to handle the `StopIteration` exception that is raised when we try to iterate more elements than there are."
   ]
  },
  {
   "cell_type": "markdown",
   "metadata": {},
   "source": [
    "# `Quick Assignment 1: Basic Iterator`\n",
    "\n",
    "1. Create a `list` of your favorite fruits.\n",
    "1. Create an iterator `object` for the list.\n",
    "1. Iterate over the iterator using the `next()` method and `print` each fruit."
   ]
  },
  {
   "cell_type": "code",
   "execution_count": null,
   "metadata": {},
   "outputs": [],
   "source": [
    "fruits = ['apple', 'banana', 'cherry', 'orange', 'kiwi', 'melon', 'mango']\n",
    "my_iterator = iter(fruits)\n",
    "try:\n",
    "    print(next(my_iterator))\n",
    "    print(next(my_iterator))\n",
    "    print(next(my_iterator))\n",
    "    print(next(my_iterator))\n",
    "    print(next(my_iterator))\n",
    "    print(next(my_iterator))\n",
    "except StopIteration:\n",
    "    print(\"StopIteration\")"
   ]
  },
  {
   "cell_type": "markdown",
   "metadata": {},
   "source": [
    "### Iteration with `for` Loop"
   ]
  },
  {
   "cell_type": "markdown",
   "metadata": {},
   "source": [
    "A `for` loop automatically calls the `iter()` method to obtain an iterator object and then calls the `next()` method to get each value from the iterator sequence.\n",
    "\n",
    "Let's create a `list` and iterate over it with a `for` loop:"
   ]
  },
  {
   "cell_type": "code",
   "execution_count": null,
   "metadata": {},
   "outputs": [],
   "source": [
    "# Create a list\n",
    "my_list = [1, 2, 3, 4, 5]\n",
    "\n",
    "# Iterate over the list with a for loop\n",
    "for element in my_list:\n",
    "    print(element)"
   ]
  },
  {
   "cell_type": "markdown",
   "metadata": {},
   "source": [
    "Create a `dictionary` and iterate over its `keys` and `values` with a `for` loop:"
   ]
  },
  {
   "cell_type": "code",
   "execution_count": null,
   "metadata": {},
   "outputs": [],
   "source": [
    "# Create a dictionary\n",
    "my_dict = {\"A\": 1, \"B\": 2, \"C\": 3}\n",
    "\n",
    "# Iterate over the dictionary keys and values with a for loop\n",
    "for key, value in my_dict.items():\n",
    "    print(key, value)"
   ]
  },
  {
   "cell_type": "markdown",
   "metadata": {},
   "source": [
    "Create a `string` and iterate over its `characters` with a `for` loop:"
   ]
  },
  {
   "cell_type": "code",
   "execution_count": null,
   "metadata": {},
   "outputs": [],
   "source": [
    "# Create a string\n",
    "sentence = \"Hello, world!\"\n",
    "\n",
    "# Iterate over the characters of the string with a for loop\n",
    "for character in sentence:\n",
    "    print(character)"
   ]
  },
  {
   "cell_type": "markdown",
   "metadata": {},
   "source": [
    "As you can see, the `for` loop is a convenient way to iterate over the elements of an iterator because it automatically calls the `iter()` and `next()` methods."
   ]
  },
  {
   "cell_type": "markdown",
   "metadata": {},
   "source": [
    "# `Quick Assignment 2: Iterator with \"for\" Loop`\n",
    "\n",
    "1. Create a `dictionary` of programming languages and their popularity.\n",
    "1. Iterate over the `dictionary` using a `for` loop and `print` each language and its popularity."
   ]
  },
  {
   "cell_type": "code",
   "execution_count": null,
   "metadata": {},
   "outputs": [],
   "source": [
    "programming_languages = {'Python': 1, 'C': 2, 'C++': 3, 'Java': 4, 'JavaScript': 5, 'Ruby': 6, 'Go':7, 'Rust': 8, 'PHP': 9, 'Perl': 10, 'Haskell': 11, 'Scala': 12}\n",
    "for language, rank in programming_languages.items():\n",
    "    print(language, rank)"
   ]
  },
  {
   "cell_type": "markdown",
   "metadata": {},
   "source": [
    "### Iteration with `while` Loop\n",
    "\n",
    "The `while` loop uses the `next()` method to get each value from the iterator sequence and then processes the values until a `StopIteration` exception is raised.\n",
    "\n",
    "Let's create a `list` and iterate over it with a `while` loop:"
   ]
  },
  {
   "cell_type": "code",
   "execution_count": null,
   "metadata": {},
   "outputs": [],
   "source": [
    "# Create a list\n",
    "my_list = [1, 2, 3, 4, 5]\n",
    "\n",
    "# Create an iterator object\n",
    "my_iterator = iter(my_list)\n",
    "\n",
    "# Iterate over the iterator elements with a while loop\n",
    "while True:\n",
    "    try:\n",
    "        element = next(my_iterator)\n",
    "        print(element)\n",
    "    except StopIteration:\n",
    "        break"
   ]
  },
  {
   "cell_type": "markdown",
   "metadata": {},
   "source": [
    "Create a `dictionary` and iterate over its `keys` and `values` with a `while` loop:"
   ]
  },
  {
   "cell_type": "code",
   "execution_count": null,
   "metadata": {},
   "outputs": [],
   "source": [
    "# Create a dictionary\n",
    "my_dict = {\"A\": 1, \"B\": 2, \"C\": 3}\n",
    "\n",
    "# Create an iterator object\n",
    "my_iterator = iter(my_dict.items())\n",
    "\n",
    "# Iterate over the iterator elements with a while loop\n",
    "while True:\n",
    "    try:\n",
    "        key, value = next(my_iterator)\n",
    "        print(key, value)\n",
    "    except StopIteration:\n",
    "        break"
   ]
  },
  {
   "cell_type": "markdown",
   "metadata": {},
   "source": [
    "Create a `string` and iterate over its `characters` with a `while` loop:"
   ]
  },
  {
   "cell_type": "code",
   "execution_count": null,
   "metadata": {},
   "outputs": [],
   "source": [
    "# Create a string\n",
    "sentence = \"Hello, world!\"\n",
    "\n",
    "# Create an iterator object\n",
    "sentence_iterator = iter(sentence)\n",
    "\n",
    "# Iterate over the iterator elements with a while loop\n",
    "while True:\n",
    "    try:\n",
    "        character = next(sentence_iterator)\n",
    "        print(character)\n",
    "    except StopIteration:\n",
    "        break"
   ]
  },
  {
   "cell_type": "markdown",
   "metadata": {},
   "source": [
    "# `Quick Assignment 3: Iterator with \"while\" Loop`\n",
    "\n",
    "1. Create a `set` of your favorite colors.\n",
    "1. Create an iterator `object` for the set.\n",
    "1. Iterate over the iterator using a `while` loop and `print` each color."
   ]
  },
  {
   "cell_type": "code",
   "execution_count": 1,
   "metadata": {},
   "outputs": [
    {
     "name": "stdout",
     "output_type": "stream",
     "text": [
      "b\n",
      "l\n",
      "u\n",
      "e\n",
      ",\n",
      " \n",
      "r\n",
      "e\n",
      "d\n",
      ",\n",
      " \n",
      "g\n",
      "r\n",
      "e\n",
      "e\n",
      "n\n",
      ",\n",
      " \n",
      "y\n",
      "e\n",
      "l\n",
      "l\n",
      "o\n",
      "w\n",
      "StopIteration\n"
     ]
    }
   ],
   "source": [
    "set = 'blue, red, green, yellow'\n",
    "\n",
    "sentence_iterator = iter(set)\n",
    "\n",
    "while True:\n",
    "    try:\n",
    "        print(next(sentence_iterator))\n",
    "    except StopIteration:\n",
    "        print('StopIteration')\n",
    "        break"
   ]
  },
  {
   "cell_type": "markdown",
   "metadata": {},
   "source": [
    "## Generators\n",
    "\n",
    "- `Generators` are special Python objects that allow more efficient iterations."
   ]
  },
  {
   "cell_type": "markdown",
   "metadata": {},
   "source": [
    "### Generator Function with yield\n",
    "\n",
    "Generator functions are functions that use the `yield` statement instead of `return`. \n",
    "\n",
    "`yield` allows the function to return a value and freeze its execution until it is called again.\n",
    "\n",
    "**Example**:"
   ]
  },
  {
   "cell_type": "code",
   "execution_count": 2,
   "metadata": {},
   "outputs": [
    {
     "name": "stdout",
     "output_type": "stream",
     "text": [
      "0\n",
      "1\n",
      "2\n",
      "3\n",
      "4\n",
      "5\n",
      "6\n",
      "7\n",
      "8\n",
      "9\n"
     ]
    }
   ],
   "source": [
    "def numbers_up_to_n(n):\n",
    "    i = 0\n",
    "    while i < n:\n",
    "        yield i\n",
    "        i += 1\n",
    "\n",
    "# Create a generator that generates numbers from 0 to 9\n",
    "generator = numbers_up_to_n(10)\n",
    "\n",
    "for number in generator:\n",
    "    print(number)"
   ]
  },
  {
   "cell_type": "markdown",
   "metadata": {},
   "source": [
    "# `Quick Assignment 4: Basic Generator Function`\n",
    "\n",
    "1. Write a generator function that `yields` square numbers up to 5.\n",
    "1. Create a generator `object` using the function.\n",
    "Iterate `over` the generator and `print` each square number."
   ]
  },
  {
   "cell_type": "code",
   "execution_count": 5,
   "metadata": {},
   "outputs": [
    {
     "name": "stdout",
     "output_type": "stream",
     "text": [
      "0\n",
      "1\n",
      "4\n",
      "9\n",
      "16\n"
     ]
    }
   ],
   "source": [
    "def squares_up_to():\n",
    "    for i in range(5):\n",
    "        yield i ** 2\n",
    "\n",
    "square_generator = squares_up_to()\n",
    "for s1uare in square_generator:\n",
    "    print(s1uare)"
   ]
  },
  {
   "cell_type": "markdown",
   "metadata": {},
   "source": [
    "### Generator with `next()`\n",
    "\n",
    "**Example**:"
   ]
  },
  {
   "cell_type": "code",
   "execution_count": 6,
   "metadata": {},
   "outputs": [
    {
     "name": "stdout",
     "output_type": "stream",
     "text": [
      "0\n",
      "1\n",
      "2\n"
     ]
    },
    {
     "ename": "StopIteration",
     "evalue": "",
     "output_type": "error",
     "traceback": [
      "\u001b[1;31m---------------------------------------------------------------------------\u001b[0m",
      "\u001b[1;31mStopIteration\u001b[0m                             Traceback (most recent call last)",
      "Cell \u001b[1;32mIn[6], line 12\u001b[0m\n\u001b[0;32m     10\u001b[0m \u001b[38;5;28mprint\u001b[39m(\u001b[38;5;28mnext\u001b[39m(generator))  \u001b[38;5;66;03m# 1\u001b[39;00m\n\u001b[0;32m     11\u001b[0m \u001b[38;5;28mprint\u001b[39m(\u001b[38;5;28mnext\u001b[39m(generator))  \u001b[38;5;66;03m# 2\u001b[39;00m\n\u001b[1;32m---> 12\u001b[0m \u001b[38;5;28mprint\u001b[39m(\u001b[38;5;28;43mnext\u001b[39;49m\u001b[43m(\u001b[49m\u001b[43mgenerator\u001b[49m\u001b[43m)\u001b[49m)  \u001b[38;5;66;03m# Raises StopIteration error\u001b[39;00m\n",
      "\u001b[1;31mStopIteration\u001b[0m: "
     ]
    }
   ],
   "source": [
    "def numbers_up_to_n(n):\n",
    "    i = 0\n",
    "    while i < n:\n",
    "        yield i\n",
    "        i += 1\n",
    "\n",
    "generator = numbers_up_to_n(3)\n",
    "\n",
    "print(next(generator))  # 0\n",
    "print(next(generator))  # 1\n",
    "print(next(generator))  # 2\n",
    "print(next(generator))  # Raises StopIteration error"
   ]
  },
  {
   "cell_type": "markdown",
   "metadata": {},
   "source": [
    "- The `next()` function allows getting the next element from the generator. \n",
    "- If the generator has finished generating all values, `next()` will raise a `StopIteration` error."
   ]
  },
  {
   "cell_type": "markdown",
   "metadata": {},
   "source": [
    "# `Quick Assignment 5: Generator with \"next()\"`\n",
    "\n",
    "1. Write a generator function that `yields` even numbers up to 8.\n",
    "1. Create a generator `object` using the function.\n",
    "1. Use the `next()` function to `print` the first three even numbers."
   ]
  },
  {
   "cell_type": "code",
   "execution_count": 7,
   "metadata": {},
   "outputs": [
    {
     "name": "stdout",
     "output_type": "stream",
     "text": [
      "0\n",
      "2\n",
      "4\n"
     ]
    }
   ],
   "source": [
    "def even_numbers_up_to():\n",
    "    for i in range(0, 9, 2):\n",
    "        yield i\n",
    "\n",
    "even_generator = even_numbers_up_to()\n",
    "print(next(even_generator))\n",
    "print(next(even_generator))\n",
    "print(next(even_generator))"
   ]
  },
  {
   "cell_type": "markdown",
   "metadata": {},
   "source": [
    "### Generator Declaration with `()`\n",
    "\n",
    "You can declare a generator using a generator expression, similar to a list comprehension but using `()` instead of `[]`.\n",
    "\n",
    "**Example**:"
   ]
  },
  {
   "cell_type": "code",
   "execution_count": 8,
   "metadata": {},
   "outputs": [
    {
     "name": "stdout",
     "output_type": "stream",
     "text": [
      "0\n",
      "1\n",
      "2\n",
      "3\n",
      "4\n",
      "5\n",
      "6\n",
      "7\n",
      "8\n",
      "9\n"
     ]
    }
   ],
   "source": [
    "numbers = (x for x in range(10))\n",
    "\n",
    "for number in numbers:\n",
    "    print(number)"
   ]
  },
  {
   "cell_type": "markdown",
   "metadata": {},
   "source": [
    "# `Quick Assignment 6: Generator Declaration`\n",
    "\n",
    "1. Create a generator `expression` that generates cube numbers up to 4.\n",
    "1. Iterate `over` the generator and `print` each cube number."
   ]
  },
  {
   "cell_type": "code",
   "execution_count": 9,
   "metadata": {},
   "outputs": [
    {
     "name": "stdout",
     "output_type": "stream",
     "text": [
      "0\n",
      "1\n",
      "8\n",
      "27\n"
     ]
    }
   ],
   "source": [
    "cube_generator = (x**3 for x in range(4))\n",
    "for i in cube_generator:\n",
    "    print(i)"
   ]
  },
  {
   "cell_type": "markdown",
   "metadata": {},
   "source": [
    "# `Bonus Assignment: Custom Iterator`\n",
    "\n",
    "1. Create a class named `MyRange` that acts as a custom iterator for a range of numbers.\n",
    "1. Implement the `__iter__` and `__next__` methods in the class.\n",
    "1. Use your `custom` iterator to iterate over a range of numbers and `print` each value."
   ]
  },
  {
   "cell_type": "code",
   "execution_count": 10,
   "metadata": {},
   "outputs": [
    {
     "name": "stdout",
     "output_type": "stream",
     "text": [
      "2\n",
      "3\n",
      "4\n",
      "5\n"
     ]
    }
   ],
   "source": [
    "class MyRange:\n",
    "    def __init__(self, start, end):\n",
    "        self.current = start\n",
    "        self.end = end\n",
    "\n",
    "    def __iter__(self):\n",
    "        return self\n",
    "    \n",
    "    def __next__(self):\n",
    "        if self.current < self.end:\n",
    "            current = self.current\n",
    "            self.current += 1\n",
    "            return current\n",
    "        else:\n",
    "            raise StopIteration()\n",
    "        \n",
    "custom_range = MyRange(2, 6)\n",
    "for i in custom_range:\n",
    "    print(i)"
   ]
  }
 ],
 "metadata": {
  "kernelspec": {
   "display_name": "Python 3",
   "language": "python",
   "name": "python3"
  },
  "language_info": {
   "codemirror_mode": {
    "name": "ipython",
    "version": 3
   },
   "file_extension": ".py",
   "mimetype": "text/x-python",
   "name": "python",
   "nbconvert_exporter": "python",
   "pygments_lexer": "ipython3",
   "version": "3.12.0"
  }
 },
 "nbformat": 4,
 "nbformat_minor": 2
}
