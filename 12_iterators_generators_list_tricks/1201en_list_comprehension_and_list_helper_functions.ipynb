{
 "cells": [
  {
   "cell_type": "markdown",
   "metadata": {},
   "source": [
    "# List Comprehension and List Helper Functions\n",
    "\n",
    "## List Comprehension\n",
    "\n",
    "List comprehension is a concise way to create lists using a for loop and an optional condition.\n",
    "\n",
    "### Exponentiation of Numbers\n",
    "\n",
    "```python\n",
    "    numbers = [1, 2, 3, 4, 5]\n",
    "    exponents = 3\n",
    "    powered_numbers = [x ** exponents for x in numbers]\n",
    "    print(powered_numbers)  # Result: [1, 8, 27, 64, 125]\n",
    "```"
   ]
  },
  {
   "cell_type": "markdown",
   "metadata": {},
   "source": [
    "### Filtering a List Based on a Logical Condition"
   ]
  },
  {
   "cell_type": "code",
   "execution_count": 1,
   "metadata": {},
   "outputs": [
    {
     "name": "stdout",
     "output_type": "stream",
     "text": [
      "[2, 4]\n"
     ]
    }
   ],
   "source": [
    "numbers = [1, 2, 3, 4, 5]\n",
    "condition = lambda x: x % 2 == 0\n",
    "filtered_numbers = [x for x in numbers if condition(x)]\n",
    "print(filtered_numbers)  # Result: [2, 4]"
   ]
  },
  {
   "cell_type": "markdown",
   "metadata": {},
   "source": [
    "### Applying a Lambda Function in List Comprehension"
   ]
  },
  {
   "cell_type": "code",
   "execution_count": null,
   "metadata": {},
   "outputs": [],
   "source": [
    "numbers = [1, 2, 3, 4, 5]\n",
    "doubled_numbers = [(lambda x: x * 2)(x) for x in numbers]\n",
    "print(doubled_numbers)  # Result: [2, 4, 6, 8, 10]"
   ]
  },
  {
   "cell_type": "markdown",
   "metadata": {},
   "source": [
    "# `Assignment 1: List Comprehension`\n",
    "\n",
    "1. Create a list comprehension that `squares` the numbers from 1 to 10.\n",
    "1. Filter a list of words to extract only the words that contain the letter '`a`'.\n",
    "1. Using list comprehension, `double` each element in a list of integers.\n",
    "1. Write a list comprehension to generate a list of `even` numbers from 1 to 20."
   ]
  },
  {
   "cell_type": "code",
   "execution_count": 6,
   "metadata": {},
   "outputs": [
    {
     "data": {
      "text/plain": [
       "[1, 4, 9, 16, 25, 36, 49, 64, 81, 100]"
      ]
     },
     "execution_count": 6,
     "metadata": {},
     "output_type": "execute_result"
    }
   ],
   "source": [
    "squared_numbers = [x**2 for x in range(1, 11)]\n",
    "squared_numbers"
   ]
  },
  {
   "cell_type": "code",
   "execution_count": 5,
   "metadata": {},
   "outputs": [
    {
     "data": {
      "text/plain": [
       "['java']"
      ]
     },
     "execution_count": 5,
     "metadata": {},
     "output_type": "execute_result"
    }
   ],
   "source": [
    "words = ['hello', 'world', 'python', 'java', 'c++']\n",
    "words_with_a = [word for word in words if 'a' in word]\n",
    "words_with_a\n"
   ]
  },
  {
   "cell_type": "code",
   "execution_count": 8,
   "metadata": {},
   "outputs": [
    {
     "data": {
      "text/plain": [
       "[2, 4, 6, 8, 10, 12, 14, 16, 18, 20]"
      ]
     },
     "execution_count": 8,
     "metadata": {},
     "output_type": "execute_result"
    }
   ],
   "source": [
    "doubled_numbers = [x * 2 for x in range(1, 11)]\n",
    "doubled_numbers"
   ]
  },
  {
   "cell_type": "code",
   "execution_count": 9,
   "metadata": {},
   "outputs": [
    {
     "data": {
      "text/plain": [
       "[0, 2, 4, 6, 8, 10, 12, 14, 16, 18, 20]"
      ]
     },
     "execution_count": 9,
     "metadata": {},
     "output_type": "execute_result"
    }
   ],
   "source": [
    "even_numbers = [x for x in range(21) if x % 2 == 0]\n",
    "even_numbers"
   ]
  },
  {
   "cell_type": "markdown",
   "metadata": {},
   "source": [
    "## List Helper Functions\n",
    "List helper functions simplify common operations on lists.\n",
    "\n",
    "### `reduce()`\n",
    "\n",
    "The `reduce()` function, from the `functools` module, accumulates list elements using a specified function."
   ]
  },
  {
   "cell_type": "code",
   "execution_count": 10,
   "metadata": {},
   "outputs": [
    {
     "name": "stdout",
     "output_type": "stream",
     "text": [
      "15\n",
      "5\n"
     ]
    }
   ],
   "source": [
    "from functools import reduce\n",
    "import operator\n",
    "\n",
    "numbers = [1, 2, 3, 4, 5]\n",
    "sum_result = reduce(lambda x, y: x + y, numbers)\n",
    "print(sum_result)  # Result: 15\n",
    "\n",
    "max_result = reduce(lambda x, y: x if x > y else y, numbers)\n",
    "print(max_result)  # Result: 5"
   ]
  },
  {
   "cell_type": "markdown",
   "metadata": {},
   "source": [
    "### Statistical Functions\n",
    "Statistical functions provide useful information about a list."
   ]
  },
  {
   "cell_type": "code",
   "execution_count": 11,
   "metadata": {},
   "outputs": [
    {
     "name": "stdout",
     "output_type": "stream",
     "text": [
      "15\n",
      "5\n",
      "1\n",
      "3\n",
      "3\n"
     ]
    }
   ],
   "source": [
    "import statistics\n",
    "\n",
    "numbers = [1, 2, 3, 4, 5]\n",
    "print(sum(numbers))  # Result: 15\n",
    "print(max(numbers))  # Result: 5\n",
    "print(min(numbers))  # Result: 1\n",
    "print(statistics.mean(numbers))  # Result: 3.0\n",
    "print(statistics.median(numbers))  # Result: 3"
   ]
  },
  {
   "cell_type": "markdown",
   "metadata": {},
   "source": [
    "### Sorting a List\n",
    "You can use the `sort()` method to sort a list in ascending order or specify the `reverse` and `key` parameters for different sorting options."
   ]
  },
  {
   "cell_type": "code",
   "execution_count": 12,
   "metadata": {},
   "outputs": [
    {
     "name": "stdout",
     "output_type": "stream",
     "text": [
      "[1, 1, 2, 3, 4, 5, 9]\n",
      "[9, 5, 4, 3, 2, 1, 1]\n",
      "['one', 'two', 'four', 'five', 'three']\n"
     ]
    }
   ],
   "source": [
    "numbers = [3, 1, 4, 1, 5, 9, 2]\n",
    "numbers.sort()\n",
    "print(numbers)  # Result: [1, 1, 2, 3, 4, 5, 9]\n",
    "\n",
    "numbers.sort(reverse=True)\n",
    "print(numbers)  # Result: [9, 5, 4, 3, 2, 1, 1]\n",
    "\n",
    "word_list = [\"one\", \"two\", \"three\", \"four\", \"five\"]\n",
    "word_list.sort(key=len)\n",
    "print(word_list)  # Result: ['one', 'two', 'four', 'five', 'three']"
   ]
  },
  {
   "cell_type": "markdown",
   "metadata": {},
   "source": [
    "### Using the `sorted()` Function\n",
    "\n",
    "The `sorted()` function sorts a list and returns a new sorted list without modifying the original list."
   ]
  },
  {
   "cell_type": "code",
   "execution_count": 13,
   "metadata": {},
   "outputs": [
    {
     "name": "stdout",
     "output_type": "stream",
     "text": [
      "[1, 1, 2, 3, 4, 5, 9]\n"
     ]
    }
   ],
   "source": [
    "numbers = [3, 1, 4, 1, 5, 9, 2]\n",
    "sorted_numbers = sorted(numbers)\n",
    "print(sorted_numbers)  # Result: [1, 1, 2, 3, 4, 5, 9]"
   ]
  },
  {
   "cell_type": "markdown",
   "metadata": {},
   "source": [
    "# `Assignment 2: List Helper Functions`\n",
    "\n",
    "1. Calculate the sum of numbers in a list using the `reduce()` function.\n",
    "1. Find the maximum value in a list using the `reduce()` function.\n",
    "1. Calculate the mean (average) of a list using the `statistics` module.\n",
    "1. Sort a list of words in alphabetical order using the `sort()` method.\n",
    "1. Sort a list of numbers in descending order using the `sort()` method."
   ]
  },
  {
   "cell_type": "code",
   "execution_count": 14,
   "metadata": {},
   "outputs": [
    {
     "data": {
      "text/plain": [
       "45"
      ]
     },
     "execution_count": 14,
     "metadata": {},
     "output_type": "execute_result"
    }
   ],
   "source": [
    "numbers = range(1, 10)\n",
    "total = reduce(lambda x, y: x + y, numbers)\n",
    "total"
   ]
  },
  {
   "cell_type": "code",
   "execution_count": 16,
   "metadata": {},
   "outputs": [
    {
     "data": {
      "text/plain": [
       "9"
      ]
     },
     "execution_count": 16,
     "metadata": {},
     "output_type": "execute_result"
    }
   ],
   "source": [
    "max_value = reduce(lambda x, y: x if x > y else y, numbers)\n",
    "max_value"
   ]
  },
  {
   "cell_type": "code",
   "execution_count": 18,
   "metadata": {},
   "outputs": [
    {
     "data": {
      "text/plain": [
       "3"
      ]
     },
     "execution_count": 18,
     "metadata": {},
     "output_type": "execute_result"
    }
   ],
   "source": [
    "import statistics\n",
    "\n",
    "mean = statistics.mean([1,2,3,4,5])\n",
    "mean"
   ]
  },
  {
   "cell_type": "code",
   "execution_count": 24,
   "metadata": {},
   "outputs": [
    {
     "name": "stdout",
     "output_type": "stream",
     "text": [
      "None\n"
     ]
    }
   ],
   "source": [
    "words = ['cat', 'window', 'defenestrate', 'defenestration']\n",
    "print(words.sort())"
   ]
  },
  {
   "cell_type": "code",
   "execution_count": 22,
   "metadata": {},
   "outputs": [],
   "source": [
    "numbers = [1, 2, 3, 4, 5]\n",
    "numbers.sort(reverse=True)"
   ]
  },
  {
   "cell_type": "markdown",
   "metadata": {},
   "source": [
    "## Sorting Objects in a List\n",
    "You can sort objects in a list based on specific attributes or multiple attributes.\n",
    "\n",
    "Let's assume we have a list of `Student` objects and we want to sort them based on their `name` attributes:"
   ]
  },
  {
   "cell_type": "code",
   "execution_count": 25,
   "metadata": {},
   "outputs": [
    {
     "name": "stdout",
     "output_type": "stream",
     "text": [
      "Anna Johnson 7.0\n",
      "John Doe 8.0\n",
      "Peter Smith 9.666666666666666\n"
     ]
    }
   ],
   "source": [
    "class Student:\n",
    "    def __init__(self, name, surname, grades):\n",
    "        self.name = name\n",
    "        self.surname = surname\n",
    "        self.grades = grades\n",
    "\n",
    "    def average(self):\n",
    "        return sum(self.grades) / len(self.grades)\n",
    "\n",
    "students = [\n",
    "    Student(\"John\", \"Doe\", [8, 9, 7]),\n",
    "    Student(\"Peter\", \"Smith\", [10, 9, 10]),\n",
    "    Student(\"Anna\", \"Johnson\", [6, 8, 7]),\n",
    "]\n",
    "\n",
    "sorted_students = sorted(students, key=lambda student: student.name)\n",
    "for student in sorted_students:\n",
    "    print(f\"{student.name} {student.surname} {student.average()}\")\n"
   ]
  },
  {
   "cell_type": "markdown",
   "metadata": {},
   "source": [
    "### Using `attrgetter()`\n",
    "\n",
    "The `attrgetter()` function from the `operator` module allows you to sort objects based on their attributes."
   ]
  },
  {
   "cell_type": "code",
   "execution_count": 26,
   "metadata": {},
   "outputs": [
    {
     "name": "stdout",
     "output_type": "stream",
     "text": [
      "Anna Johnson 7.0\n",
      "John Doe 8.0\n",
      "Peter Smith 9.666666666666666\n"
     ]
    }
   ],
   "source": [
    "from operator import attrgetter\n",
    "\n",
    "class Student:\n",
    "    def __init__(self, name, surname, grades):\n",
    "        self.name = name\n",
    "        self.surname = surname\n",
    "        self.grades = grades\n",
    "\n",
    "    def average(self):\n",
    "        return sum(self.grades) / len(self.grades)\n",
    "\n",
    "students = [\n",
    "    Student(\"John\", \"Doe\", [8, 9, 7]),\n",
    "    Student(\"Peter\", \"Smith\", [10, 9, 10]),\n",
    "    Student(\"Anna\", \"Johnson\", [6, 8, 7]),\n",
    "]\n",
    "\n",
    "sorted_students = sorted(students, key=attrgetter(\"name\"))\n",
    "for student in sorted_students:\n",
    "    print(f\"{student.name} {student.surname} {student.average()}\")\n"
   ]
  },
  {
   "cell_type": "markdown",
   "metadata": {},
   "source": [
    "If you want to sort by multiple attributes, you can provide them as arguments to `attrgetter()`:"
   ]
  },
  {
   "cell_type": "code",
   "execution_count": 27,
   "metadata": {},
   "outputs": [
    {
     "name": "stdout",
     "output_type": "stream",
     "text": [
      "Doe John 8.0\n",
      "Johnson Anna 7.0\n",
      "Smith Peter 9.666666666666666\n"
     ]
    }
   ],
   "source": [
    "sorted_students = sorted(students, key=attrgetter(\"surname\", \"name\"))\n",
    "for student in sorted_students:\n",
    "    print(f\"{student.surname} {student.name} {student.average()}\")"
   ]
  },
  {
   "cell_type": "markdown",
   "metadata": {},
   "source": [
    "# `Assignment 3: Sorting Objects in a List`\n",
    "\n",
    "1. Create a class named `Product` with attributes for `name`, `price`, and `quantity`. Create a list of `Product` objects.\n",
    "1. Sort the list of `Product` objects by price in `ascending` order without using `attrgetter()`.\n",
    "1. Sort the same list of `Product` objects by quantity in `descending` order using `attrgetter()`.\n",
    "1. Sort a list of `Person` objects by age, where each `Person` has attributes for `name` and `age`."
   ]
  },
  {
   "cell_type": "code",
   "execution_count": 31,
   "metadata": {},
   "outputs": [],
   "source": [
    "class Product:\n",
    "    def __init__(self, name, price, quantity):\n",
    "        self.name = name\n",
    "        self.price = price\n",
    "        self.quantity = quantity\n",
    "\n",
    "products = [\n",
    "    Product('milk', 1.5, 100),\n",
    "    Product('bread', 2.5, 100),\n",
    "    Product('butter', 1.0, 100),\n",
    "]"
   ]
  },
  {
   "cell_type": "code",
   "execution_count": 35,
   "metadata": {},
   "outputs": [
    {
     "name": "stdout",
     "output_type": "stream",
     "text": [
      "butter 1.0\n",
      "milk 1.5\n",
      "bread 2.5\n"
     ]
    }
   ],
   "source": [
    "sorted_products = sorted(products, key=lambda product: product.price)\n",
    "for product in sorted_products:\n",
    "    print(product.name, product.price)"
   ]
  },
  {
   "cell_type": "code",
   "execution_count": 36,
   "metadata": {},
   "outputs": [
    {
     "name": "stdout",
     "output_type": "stream",
     "text": [
      "milk 100\n",
      "bread 100\n",
      "butter 100\n"
     ]
    }
   ],
   "source": [
    "from operator import attrgetter\n",
    "sorted_products = sorted(products, key=attrgetter('quantity'), reverse=True)\n",
    "for product in sorted_products:\n",
    "    print(product.name, product.quantity)"
   ]
  },
  {
   "cell_type": "code",
   "execution_count": 37,
   "metadata": {},
   "outputs": [
    {
     "name": "stdout",
     "output_type": "stream",
     "text": [
      "Bob\n",
      "Alice\n",
      "Lisa\n"
     ]
    }
   ],
   "source": [
    "class Person:\n",
    "    def __init__(self, name, age):\n",
    "        self.name = name\n",
    "        self.age = age\n",
    "\n",
    "people = [\n",
    "    Person('Bob', 20),\n",
    "    Person('Alice', 21),\n",
    "    Person('Lisa', 22),\n",
    "]\n",
    "\n",
    "sorted_people = sorted(people, key=lambda person: person.age)\n",
    "for person in sorted_people:\n",
    "    print(person.name)\n",
    "    "
   ]
  },
  {
   "cell_type": "markdown",
   "metadata": {},
   "source": [
    "## List Definition\n",
    "\n",
    "List comprehension and list helper functions provide powerful tools for working with lists. Whether you need to create new lists, perform calculations, filter data, or sort objects within lists, these techniques can streamline your code."
   ]
  }
 ],
 "metadata": {
  "kernelspec": {
   "display_name": "Python 3",
   "language": "python",
   "name": "python3"
  },
  "language_info": {
   "codemirror_mode": {
    "name": "ipython",
    "version": 3
   },
   "file_extension": ".py",
   "mimetype": "text/x-python",
   "name": "python",
   "nbconvert_exporter": "python",
   "pygments_lexer": "ipython3",
   "version": "3.12.0"
  }
 },
 "nbformat": 4,
 "nbformat_minor": 2
}
