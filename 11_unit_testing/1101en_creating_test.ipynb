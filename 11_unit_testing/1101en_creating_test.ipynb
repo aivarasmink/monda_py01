{
 "cells": [
  {
   "cell_type": "markdown",
   "metadata": {},
   "source": [
    "\n",
    "# Testing, Practices of Test Creation\n",
    "\n",
    "### Testing Theory\n",
    "\n",
    "Testing is a process through which the software system is checked to verify whether it meets requirements and operates without errors. There are two main testing methods: `manual` and `automated`.\n",
    "\n",
    "#### Manual Testing\n",
    "\n",
    "`Manual testing` is a testing method where a tester performs tests without the help of specialized tools. Manual testing can be useful for the initial assessment of software functionality, but it is time-consuming and may lead to human errors.\n",
    "\n",
    "#### Automated Testing\n",
    "\n",
    "`Automated testing` is a testing method where tests are performed using specialized programs and scripts. In Python, there are several libraries for automated testing, such as unittest, pytest, etc.\n",
    "\n",
    "#### Unittest Library\n",
    "\n",
    "`Unittest` is a standard Python library designed for automated testing. It provides various methods to write tests and check results.\n",
    "\n",
    "#### Assert Methods\n",
    "\n",
    "Assert methods are methods of the `unittest` library that help verify if the result matches the expected outcome.\n",
    "\n",
    "Example:\n"
   ]
  },
  {
   "cell_type": "code",
   "execution_count": null,
   "metadata": {},
   "outputs": [],
   "source": [
    "import unittest\n",
    "\n",
    "class TestAssertMethods(unittest.TestCase):\n",
    "    def test_assertEqual(self):\n",
    "        self.assertEqual(3 + 2, 5)\n",
    "\n",
    "    def test_assertTrue(self):\n",
    "        self.assertTrue(3 < 5)\n",
    "\n",
    "    def test_assertFalse(self):\n",
    "        self.assertFalse(5 < 3)\n",
    "\n",
    "    def test_assertIs(self):\n",
    "        a = [1, 2, 3]\n",
    "        b = a\n",
    "        self.assertIs(a, b)\n",
    "\n",
    "    def test_assertIsNone(self):\n",
    "        self.assertIsNone(None)\n",
    "\n",
    "if __name__ == '__main__':\n",
    "    unittest.main()\n",
    "    \n"
   ]
  },
  {
   "cell_type": "markdown",
   "metadata": {},
   "source": [
    "These examples demonstrate how to use various assert methods in the `unittest` library:\n"
   ]
  },
  {
   "cell_type": "markdown",
   "metadata": {},
   "source": [
    "\n",
    "`test_assertEqual`: checks if 3 + 2 is equal to 5.\n",
    "`test_assertTrue`: checks if the condition 3 < 5 is true.\n",
    "`test_assertFalse`: checks if the condition 5 < 3 is false.\n",
    "`test_assertIs`: checks if variables 'a' and 'b' refer to the same object.\n",
    "`test_assertIsNone`: checks if a function returns the value None.\n"
   ]
  },
  {
   "cell_type": "markdown",
   "metadata": {},
   "source": [
    "\n",
    "### Running Tests from the Command Line\n",
    "\n",
    "You can run tests from the command line using the following command:\n",
    "\n"
   ]
  },
  {
   "cell_type": "code",
   "execution_count": null,
   "metadata": {},
   "outputs": [],
   "source": [
    "\n",
    "python -m unittest test_example.py\n"
   ]
  },
  {
   "cell_type": "markdown",
   "metadata": {},
   "source": [
    "### Running Tests with `unittest.main()`\n"
   ]
  },
  {
   "cell_type": "markdown",
   "metadata": {},
   "source": [
    "\n",
    "You can also run tests using the `unittest.main() function`:\n"
   ]
  },
  {
   "cell_type": "code",
   "execution_count": null,
   "metadata": {},
   "outputs": [],
   "source": [
    "\n",
    "if __name__ == '__main__':\n",
    "    unittest.main()\n",
    "    \n"
   ]
  },
  {
   "cell_type": "markdown",
   "metadata": {},
   "source": [
    "### False Positive Example\n",
    "\n",
    "A false positive occurs when a test passes but should fail.\n",
    "\n",
    "Example with incompatible comparison:\n"
   ]
  },
  {
   "cell_type": "code",
   "execution_count": null,
   "metadata": {},
   "outputs": [],
   "source": [
    "\n",
    "import unittest\n",
    "\n",
    "def divide(x, y):\n",
    "    return x / y\n",
    "\n",
    "class TestDivideFunction(unittest.TestCase):\n",
    "    def test_integer_division(self):\n",
    "        self.assertEqual(divide(10, 2), 10 // 2)  # False positive: 5.0 == 5\n",
    "\n",
    "if __name__ == '__main__':\n",
    "    unittest.main()\n",
    "    \n"
   ]
  },
  {
   "cell_type": "markdown",
   "metadata": {},
   "source": [
    "In this example, there is a false positive situation because we use incompatible operations (/ and //). The test passes because Python automatically converts 5.0 to 5 during the comparison. However, we should use `assertAlmostEqual` to check if the results are sufficiently close, not just equal.\n"
   ]
  },
  {
   "cell_type": "markdown",
   "metadata": {},
   "source": [
    "\n",
    "Example with incorrect logic:\n",
    "\n"
   ]
  },
  {
   "cell_type": "code",
   "execution_count": null,
   "metadata": {},
   "outputs": [],
   "source": [
    "\n",
    "import unittest\n",
    "\n",
    "def is_prime(n):\n",
    "    if n <= 1: \n",
    "        return False\n",
    "    for i in range(2, n):\n",
    "        if n % i == 0:\n",
    "            return False\n",
    "    return True  # Incorrect logic, as range(2, 2) returns nothing, skipping 2 as prime.\n",
    "\n",
    "class TestIsPrimeFunction(unittest.TestCase):\n",
    "    def test_prime(self):\n",
    "        self.assertTrue(is_prime(2))\n",
    "        self.assertTrue(is_prime(3))\n",
    "        self.assertTrue(is_prime(5))\n",
    "        self.assertTrue(is_prime(7))\n",
    "        self.assertTrue(is_prime(11))\n",
    "\n",
    "    def test_non_prime(self):\n",
    "        self.assertFalse(is_prime(4))\n",
    "        self.assertFalse(is_prime(6))\n",
    "        self.assertFalse(is_prime(8))\n",
    "        self.assertFalse(is_prime(9))\n",
    "        self.assertFalse(is_prime(10))\n",
    "        self.assertFalse(is_prime(12))\n",
    "\n",
    "if __name__ == '__main__':\n",
    "    unittest.main()\n",
    "    \n"
   ]
  },
  {
   "cell_type": "markdown",
   "metadata": {},
   "source": [
    "In this example, the test_prime test passes due to incorrect logic in the is_prime function. Although this function correctly determines if a number is not prime, it does not check if the number is 2. Because of this flawed logic, the test passes when it should fail.\n",
    "\n",
    "To avoid false positives, it is important to design tests carefully, covering all possible scenarios, and ensure that functions are correctly implemented.\n"
   ]
  },
  {
   "cell_type": "markdown",
   "metadata": {},
   "source": [
    "\n",
    "### Testing Object Classes, setUp() Method\n",
    "\n",
    "The `setUp`() method is a unittest library method that allows you to set initial values before each test.\n",
    "\n",
    "Example:\n"
   ]
  },
  {
   "cell_type": "code",
   "execution_count": null,
   "metadata": {},
   "outputs": [],
   "source": [
    "\n",
    "\n",
    "import unittest\n",
    "\n",
    "class MyClass:\n",
    "    def __init__(self, x):\n",
    "        self.x = x\n",
    "\n",
    "    def add(self, y):\n",
    "        return self.x + y\n",
    "\n",
    "class TestMyClass(unittest.TestCase):\n",
    "    def setUp(self): \n",
    "        self.obj = MyClass(5)\n",
    "\n",
    "    def test_add(self):\n",
    "        self.assertEqual(self.obj.add(3), 8)\n",
    "\n",
    "if __name__ == '__main__':\n",
    "    unittest.main()\n",
    "    \n"
   ]
  },
  {
   "cell_type": "markdown",
   "metadata": {},
   "source": [
    "We create a test class `TestMyClass` that inherits from `unittest.TestCase`. In the `TestMyClass` class, we define the `setUp()` method. Before each test, a new `MyClass` object with x value equal to 5 is created. The test_add test checks if the add method works correctly. The test uses the `assertEqual()` function to check if `self.obj"
   ]
  },
  {
   "cell_type": "markdown",
   "metadata": {},
   "source": [
    "## Test-Driven Development (TDD) Methodology\n",
    "\n",
    "`Test-Driven Development (TDD)` is a programming methodology where tests are written first, and then they are used during software development. This helps define what the functionality should be in advance and ensures that the software works according to predefined requirements.\n",
    "\n",
    "TDD Process Stages:\n",
    "\n",
    "1. Write a test that fails.\n",
    "2. Write minimal code to make the test pass.\n",
    "3. Refactor the code to follow good programming practices.\n",
    "4. Repeat stages 1-3 until all requirements are implemented.\n",
    "\n",
    "Let's consider a TDD task: Create a calculator that can perform addition.\n",
    "\n",
    "Write a test that fails:\n"
   ]
  },
  {
   "cell_type": "code",
   "execution_count": null,
   "metadata": {},
   "outputs": [],
   "source": [
    "\n",
    "class TestCalculator(unittest.TestCase):\n",
    "    def setUp(self):\n",
    "        self.calc = Calculator()\n",
    "\n",
    "    def test_add(self):\n",
    "        self.assertEqual(self.calc.add(3, 5), 8)\n",
    "        \n"
   ]
  },
  {
   "cell_type": "markdown",
   "metadata": {},
   "source": [
    "The `test_add` test checks if the Calculator class's add method correctly performs addition. It expects the sum of 3 and 5 to be 8.\n"
   ]
  },
  {
   "cell_type": "markdown",
   "metadata": {},
   "source": [
    "\n",
    "Write minimal code to make the test work:\n"
   ]
  },
  {
   "cell_type": "code",
   "execution_count": null,
   "metadata": {},
   "outputs": [],
   "source": [
    "class Calculator:\n",
    "    def add(self, x, y):\n",
    "        pass"
   ]
  },
  {
   "cell_type": "markdown",
   "metadata": {},
   "source": [
    "Currently, the add method is empty (using the pass command). This means it does nothing and returns nothing. For this reason, the `test_add` test will fail because self.calc.add(3, 5) will return None instead of 8.\n",
    "\n",
    "\n",
    "We write minimal code to make the test pass:"
   ]
  },
  {
   "cell_type": "code",
   "execution_count": null,
   "metadata": {},
   "outputs": [],
   "source": [
    "class Calculator:\n",
    "    def add(self, x, y):\n",
    "        return x + y"
   ]
  },
  {
   "cell_type": "markdown",
   "metadata": {},
   "source": [
    "In this stage, the `add` method has been modified to return the sum of x and y. Now, the `test_add` test should pass because `self.calc.add(3, 5)` returns 8, as expected.\n",
    "\n",
    "Refactor the code to follow good programming practices:\n",
    "\n",
    "In this case, code refactoring is not necessary because the `Calculator` class and its add method are simple and clear.\n",
    "\n",
    "Repeat stages 1-3 until all requirements are implemented:\n",
    "\n",
    "In this example, the requirement was to implement the addition function. If there were additional requirements (e.g., subtraction, multiplication, and division functions), you would repeat the TDD process for each of them.\n",
    "\n",
    "The TDD process helps ensure that functions work correctly, code is tidy and easy to understand, potential errors are avoided, and program maintenance is facilitated."
   ]
  },
  {
   "cell_type": "markdown",
   "metadata": {},
   "source": [
    "## Quick Assignement 1\n",
    "\n",
    "\n",
    "Following the TDD principle, create a program called \"Loan Calculator.\"\n",
    "\n",
    "Create a test for the loan calculator program, where it's possible to set the loan amount, annual interest rate, and term for the loan object. The testing scenario should verify several correct loan interest, cost increase, and payment schedule scenarios.\n",
    "\n",
    "Develop a program that works with the implemented test above.\n"
   ]
  }
 ],
 "metadata": {
  "kernelspec": {
   "display_name": "venv",
   "language": "python",
   "name": "python3"
  },
  "language_info": {
   "name": "python",
   "version": "3.12.0"
  }
 },
 "nbformat": 4,
 "nbformat_minor": 2
}
