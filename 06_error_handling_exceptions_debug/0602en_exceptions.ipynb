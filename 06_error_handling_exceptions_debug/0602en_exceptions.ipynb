{
 "cells": [
  {
   "cell_type": "markdown",
   "metadata": {},
   "source": [
    "# Exceptions\n",
    "\n",
    "## TypeError\n",
    "\n",
    "One of the errors that can occur due to the improper use of data types is a `TypeError`. \n",
    ">For example, when trying to concatenate different data types:"
   ]
  },
  {
   "cell_type": "code",
   "execution_count": 1,
   "metadata": {},
   "outputs": [
    {
     "ename": "TypeError",
     "evalue": "can only concatenate str (not \"int\") to str",
     "output_type": "error",
     "traceback": [
      "\u001b[1;31m---------------------------------------------------------------------------\u001b[0m",
      "\u001b[1;31mTypeError\u001b[0m                                 Traceback (most recent call last)",
      "Cell \u001b[1;32mIn[1], line 3\u001b[0m\n\u001b[0;32m      1\u001b[0m number \u001b[38;5;241m=\u001b[39m \u001b[38;5;241m42\u001b[39m\n\u001b[0;32m      2\u001b[0m name \u001b[38;5;241m=\u001b[39m \u001b[38;5;124m\"\u001b[39m\u001b[38;5;124mJohn\u001b[39m\u001b[38;5;124m\"\u001b[39m\n\u001b[1;32m----> 3\u001b[0m result \u001b[38;5;241m=\u001b[39m \u001b[43mname\u001b[49m\u001b[43m \u001b[49m\u001b[38;5;241;43m+\u001b[39;49m\u001b[43m \u001b[49m\u001b[43mnumber\u001b[49m  \u001b[38;5;66;03m# TypeError: can only concatenate str (not \"int\") to str\u001b[39;00m\n",
      "\u001b[1;31mTypeError\u001b[0m: can only concatenate str (not \"int\") to str"
     ]
    }
   ],
   "source": [
    "number = 42\n",
    "name = \"John\"\n",
    "result = name + number  # TypeError: can only concatenate str (not \"int\") to str"
   ]
  },
  {
   "cell_type": "markdown",
   "metadata": {},
   "source": [
    "For error handling, we use `try` and `except` blocks, \n",
    ">which allow us to handle exceptions and continue the program's execution:"
   ]
  },
  {
   "cell_type": "code",
   "execution_count": 2,
   "metadata": {},
   "outputs": [
    {
     "name": "stdout",
     "output_type": "stream",
     "text": [
      "Error: cannot concatenate 'str' and 'int' data types\n"
     ]
    }
   ],
   "source": [
    "number = 42\n",
    "name = \"John\"\n",
    "try:\n",
    "    result = name + number\n",
    "except TypeError:\n",
    "    print(\"Error: cannot concatenate 'str' and 'int' data types\")  # Error: cannot concatenate 'str' and 'int' data types"
   ]
  },
  {
   "cell_type": "markdown",
   "metadata": {},
   "source": [
    "# `Quick assignment 1: TypeError Assignment`\n",
    "\n",
    "1. Create a program that attempts to add an integer and a string together.\n",
    "1. Use a `try` and `except` block to catch the `TypeError` and print an error message."
   ]
  },
  {
   "cell_type": "code",
   "execution_count": 3,
   "metadata": {},
   "outputs": [
    {
     "name": "stdout",
     "output_type": "stream",
     "text": [
      "Error: canoncatenating strings and integers is not supported\n"
     ]
    }
   ],
   "source": [
    "metai = 22\n",
    "vardas = 'Vardas'\n",
    "try:\n",
    "    resultatas = metai + vardas\n",
    "except TypeError:\n",
    "    print(\"Error: canoncatenating strings and integers is not supported\")"
   ]
  },
  {
   "cell_type": "markdown",
   "metadata": {},
   "source": [
    "## NameError\n",
    "Using an undefined variable results in a `NameError`, \n",
    ">for example:"
   ]
  },
  {
   "cell_type": "code",
   "execution_count": 4,
   "metadata": {},
   "outputs": [
    {
     "ename": "NameError",
     "evalue": "name 'b' is not defined",
     "output_type": "error",
     "traceback": [
      "\u001b[1;31m---------------------------------------------------------------------------\u001b[0m",
      "\u001b[1;31mNameError\u001b[0m                                 Traceback (most recent call last)",
      "Cell \u001b[1;32mIn[4], line 2\u001b[0m\n\u001b[0;32m      1\u001b[0m a \u001b[38;5;241m=\u001b[39m \u001b[38;5;241m10\u001b[39m\n\u001b[1;32m----> 2\u001b[0m \u001b[38;5;28mprint\u001b[39m(\u001b[43mb\u001b[49m)  \u001b[38;5;66;03m# NameError: name 'b' is not defined\u001b[39;00m\n",
      "\u001b[1;31mNameError\u001b[0m: name 'b' is not defined"
     ]
    }
   ],
   "source": [
    "a = 10\n",
    "print(b)  # NameError: name 'b' is not defined"
   ]
  },
  {
   "cell_type": "markdown",
   "metadata": {},
   "source": [
    "This code will raise a `NameError` because the variable 'b' was not defined earlier in the program. \n",
    ">One way to handle this error is to use `try` and `except` blocks:"
   ]
  },
  {
   "cell_type": "code",
   "execution_count": 5,
   "metadata": {},
   "outputs": [
    {
     "name": "stdout",
     "output_type": "stream",
     "text": [
      "Error: variable was not defined\n"
     ]
    }
   ],
   "source": [
    "a = 10\n",
    "try:\n",
    "    print(b)\n",
    "except NameError:\n",
    "    print(\"Error: variable was not defined\")  # Error: variable was not defined"
   ]
  },
  {
   "cell_type": "markdown",
   "metadata": {},
   "source": [
    "# `Quick assignment 2: NameError Assignment`\n",
    "\n",
    "1. Write a program that tries to print a variable that has not been defined.\n",
    "1. Use a `try` and `except` block to catch the `NameError` and display a custom error message."
   ]
  },
  {
   "cell_type": "code",
   "execution_count": 8,
   "metadata": {},
   "outputs": [
    {
     "name": "stdout",
     "output_type": "stream",
     "text": [
      "Variable netas is not defined\n"
     ]
    }
   ],
   "source": [
    "kas = 22\n",
    "\n",
    "try:\n",
    "    print(netas)\n",
    "except NameError:\n",
    "    print(\"Variable netas is not defined\")"
   ]
  },
  {
   "cell_type": "markdown",
   "metadata": {},
   "source": [
    "## ValueError, ZeroDivisionError\n",
    "`ValueError` occurs when attempting to convert a value to the correct data type, but it cannot be done due to incorrect or invalid values,\n",
    "\n",
    ">for example:"
   ]
  },
  {
   "cell_type": "code",
   "execution_count": 9,
   "metadata": {},
   "outputs": [
    {
     "name": "stdout",
     "output_type": "stream",
     "text": [
      "Error: cannot convert value to a number\n"
     ]
    }
   ],
   "source": [
    "try:\n",
    "    x = int('abc')\n",
    "except ValueError:\n",
    "    print(\"Error: cannot convert value to a number\")  # Error: cannot convert value to a number"
   ]
  },
  {
   "cell_type": "markdown",
   "metadata": {},
   "source": [
    "# `Quick assignment 3: ValueError Assignment`\n",
    "\n",
    "1. Develop a program that attempts to convert a non-numeric string to an integer (e.g., \"abc\" to int).\n",
    "1. Use a `try` and `except` block to handle the `ValueError` and print an error message."
   ]
  },
  {
   "cell_type": "code",
   "execution_count": 14,
   "metadata": {},
   "outputs": [
    {
     "name": "stdout",
     "output_type": "stream",
     "text": [
      "ValueError  cannot be converted to a float\n"
     ]
    }
   ],
   "source": [
    "try:\n",
    "    b = int('aha')\n",
    "except ValueError:\n",
    "    print('ValueError  cannot be converted to a float')"
   ]
  },
  {
   "cell_type": "markdown",
   "metadata": {},
   "source": [
    "`ZeroDivisionError` is raised when attempting to divide a number by zero. This is an invalid mathematical operation, so it raises this error when you try to perform it. \n",
    "\n",
    ">For example:"
   ]
  },
  {
   "cell_type": "code",
   "execution_count": 16,
   "metadata": {},
   "outputs": [
    {
     "name": "stdout",
     "output_type": "stream",
     "text": [
      "Error: cannot divide by zero\n"
     ]
    }
   ],
   "source": [
    "try:\n",
    "    x = 1/0\n",
    "except ZeroDivisionError:\n",
    "    print(\"Error: cannot divide by zero\")  # Error: cannot divide by zero"
   ]
  },
  {
   "cell_type": "markdown",
   "metadata": {},
   "source": [
    "# `Quick assignment 4: ZeroDivisionError Assignment`\n",
    "\n",
    "1. Create a program that divides a number by zero (e.g., `1 / 0`).\n",
    "1. Use a `try` and `except` block to catch the `ZeroDivisionError` and display an error message."
   ]
  },
  {
   "cell_type": "code",
   "execution_count": 17,
   "metadata": {},
   "outputs": [
    {
     "name": "stdout",
     "output_type": "stream",
     "text": [
      "You can't divide by zero!\n"
     ]
    }
   ],
   "source": [
    "try:\n",
    "    a = 1/0\n",
    "except ZeroDivisionError:\n",
    "    print(\"You can't divide by zero!\")"
   ]
  },
  {
   "cell_type": "markdown",
   "metadata": {},
   "source": [
    "## IndexError for Lists, KeyError for Dictionaries\n",
    "`IndexError` occurs when trying to access a list element that does not exist at the specified index, \n",
    "\n",
    ">for example:"
   ]
  },
  {
   "cell_type": "code",
   "execution_count": 18,
   "metadata": {},
   "outputs": [
    {
     "name": "stdout",
     "output_type": "stream",
     "text": [
      "Error: index exceeds the list's boundaries\n"
     ]
    }
   ],
   "source": [
    "my_list = [1, 2, 3]\n",
    "\n",
    "try:\n",
    "    print(my_list[3])\n",
    "except IndexError:\n",
    "    print(\"Error: index exceeds the list's boundaries\")  # Error: index exceeds the list's boundaries"
   ]
  },
  {
   "cell_type": "markdown",
   "metadata": {},
   "source": [
    "# `Quick assignment 5: IndexError Assignment`\n",
    "\n",
    "1. Write a program that tries to access an element in a list using an index that is out of range.\n",
    "1. Use a `try` and `except` block to handle the `IndexError` and print a custom error message."
   ]
  },
  {
   "cell_type": "code",
   "execution_count": 19,
   "metadata": {},
   "outputs": [
    {
     "name": "stdout",
     "output_type": "stream",
     "text": [
      "Index out of range\n"
     ]
    }
   ],
   "source": [
    "list = [1,2,3,4,5]\n",
    "try:\n",
    "    print(list[10])\n",
    "except IndexError:\n",
    "    print(\"Index out of range\")"
   ]
  },
  {
   "cell_type": "markdown",
   "metadata": {},
   "source": [
    "`KeyError` is raised when trying to access a dictionary key that does not exist, \n",
    "\n",
    ">for example:"
   ]
  },
  {
   "cell_type": "code",
   "execution_count": 21,
   "metadata": {},
   "outputs": [
    {
     "name": "stdout",
     "output_type": "stream",
     "text": [
      "Error: key does not exist in the dictionary\n"
     ]
    }
   ],
   "source": [
    "my_dict = {\"a\": 1, \"b\": 2, \"c\": 3}\n",
    "\n",
    "try:\n",
    "    print(my_dict[\"d\"])\n",
    "except KeyError:\n",
    "    print(\"Error: key does not exist in the dictionary\")  # Error: key does not exist in the dictionary"
   ]
  },
  {
   "cell_type": "markdown",
   "metadata": {},
   "source": [
    "# `Quick assignment 6: KeyError Assignment`\n",
    "\n",
    "1. Develop a program that attempts to access a key in a dictionary that does not exist.\n",
    "1. Use a `try` and `except` block to catch the `KeyError` and display an error message."
   ]
  },
  {
   "cell_type": "code",
   "execution_count": 22,
   "metadata": {},
   "outputs": [
    {
     "name": "stdout",
     "output_type": "stream",
     "text": [
      "KeyError\n"
     ]
    }
   ],
   "source": [
    "diktas = {\"c\": 1, \"e\": 2, \"a\": 3}\n",
    "try:\n",
    "    print(diktas[\"b\"])\n",
    "except KeyError:\n",
    "    print(\"KeyError\")"
   ]
  },
  {
   "cell_type": "markdown",
   "metadata": {},
   "source": [
    "## AttributeError for Objects\n",
    "`AttributeError` is raised when a program tries to access an attribute that does not exist in an object or class, \n",
    "\n",
    ">for example:"
   ]
  },
  {
   "cell_type": "code",
   "execution_count": 23,
   "metadata": {},
   "outputs": [
    {
     "name": "stdout",
     "output_type": "stream",
     "text": [
      "John\n"
     ]
    },
    {
     "ename": "AttributeError",
     "evalue": "'Person' object has no attribute 'surname'",
     "output_type": "error",
     "traceback": [
      "\u001b[1;31m---------------------------------------------------------------------------\u001b[0m",
      "\u001b[1;31mAttributeError\u001b[0m                            Traceback (most recent call last)",
      "Cell \u001b[1;32mIn[23], line 8\u001b[0m\n\u001b[0;32m      6\u001b[0m person \u001b[38;5;241m=\u001b[39m Person(\u001b[38;5;124m\"\u001b[39m\u001b[38;5;124mJohn\u001b[39m\u001b[38;5;124m\"\u001b[39m, \u001b[38;5;241m25\u001b[39m)\n\u001b[0;32m      7\u001b[0m \u001b[38;5;28mprint\u001b[39m(person\u001b[38;5;241m.\u001b[39mname)  \u001b[38;5;66;03m# \"John\"\u001b[39;00m\n\u001b[1;32m----> 8\u001b[0m \u001b[38;5;28mprint\u001b[39m(\u001b[43mperson\u001b[49m\u001b[38;5;241;43m.\u001b[39;49m\u001b[43msurname\u001b[49m)  \u001b[38;5;66;03m# AttributeError: 'Person' object has no attribute 'surname'\u001b[39;00m\n",
      "\u001b[1;31mAttributeError\u001b[0m: 'Person' object has no attribute 'surname'"
     ]
    }
   ],
   "source": [
    "class Person:\n",
    "    def __init__(self, name, age):\n",
    "        self.name = name\n",
    "        self.age = age\n",
    "\n",
    "person = Person(\"John\", 25)\n",
    "print(person.name)  # \"John\"\n",
    "print(person.surname)  # AttributeError: 'Person' object has no attribute 'surname'"
   ]
  },
  {
   "cell_type": "markdown",
   "metadata": {},
   "source": [
    "To protect the program from `AttributeError` exceptions, you can use a `try`-`except` block:"
   ]
  },
  {
   "cell_type": "code",
   "execution_count": 24,
   "metadata": {},
   "outputs": [
    {
     "name": "stdout",
     "output_type": "stream",
     "text": [
      "Error: 'surname' attribute does not exist\n"
     ]
    }
   ],
   "source": [
    "try:\n",
    "    print(person.surname)\n",
    "except AttributeError:\n",
    "    print(\"Error: 'surname' attribute does not exist\")  # Error: 'surname' attribute does not exist"
   ]
  },
  {
   "cell_type": "markdown",
   "metadata": {},
   "source": [
    "# `Quick assignment 7: AttributeError Assignment`\n",
    "\n",
    "1. Create a `class` with some attributes and attempt to access an attribute that does not exist for an instance of that class.\n",
    "1. Use a `try` and `except` block to catch the `AttributeError` and print a custom error message."
   ]
  },
  {
   "cell_type": "code",
   "execution_count": 28,
   "metadata": {},
   "outputs": [
    {
     "name": "stdout",
     "output_type": "stream",
     "text": [
      "John\n",
      "Error: 'surname' attribute does not exist\n"
     ]
    }
   ],
   "source": [
    "class Person:\n",
    "    def __init__(self, name, age):\n",
    "        self.name = name\n",
    "        self.age = age\n",
    "person = Person(\"John\", 25)\n",
    "print(person.name)\n",
    "try:\n",
    "    print(person.surname)\n",
    "except AttributeError:\n",
    "    print(\"Error: 'surname' attribute does not exist\")  # Error: 'surname' attribute does not exist"
   ]
  },
  {
   "cell_type": "markdown",
   "metadata": {},
   "source": [
    "## Using the `hasattr()` function for Checking Object Attributes"
   ]
  },
  {
   "cell_type": "markdown",
   "metadata": {},
   "source": [
    "The `hasattr()` function allows you to check whether an object has a specific attribute. It takes the object and attribute name as arguments and returns `True` if the attribute exists, and `False` if it does not. \n",
    "\n",
    ">For example:"
   ]
  },
  {
   "cell_type": "code",
   "execution_count": 29,
   "metadata": {},
   "outputs": [
    {
     "name": "stdout",
     "output_type": "stream",
     "text": [
      "Error: 'surname' attribute does not exist\n"
     ]
    }
   ],
   "source": [
    "if hasattr(person, 'surname'):\n",
    "    print(person.surname)\n",
    "else:\n",
    "    print(\"Error: 'surname' attribute does not exist\")  # Error: 'surname' attribute does not exist"
   ]
  },
  {
   "cell_type": "markdown",
   "metadata": {},
   "source": [
    "# `Quick assignment 8: hasattr() Assignment`\n",
    "\n",
    "1. Modify the previous program in \"quick assignment 7\" with the `AttributeError` to check if the attribute exists using the `hasattr()` function before accessing it. \n",
    "1. If it exists, print the attribute's value; otherwise, display an error message."
   ]
  },
  {
   "cell_type": "code",
   "execution_count": 32,
   "metadata": {},
   "outputs": [
    {
     "name": "stdout",
     "output_type": "stream",
     "text": [
      "not frozen\n"
     ]
    }
   ],
   "source": [
    "if hasattr(person, 'frozen'):\n",
    "    print(person.surname)\n",
    "else:\n",
    "    print('not frozen')"
   ]
  },
  {
   "cell_type": "markdown",
   "metadata": {},
   "source": [
    "## Using `Exception` as a Generic Exception Class and Getting the Exception Name with `__class__.__name__`"
   ]
  },
  {
   "cell_type": "markdown",
   "metadata": {},
   "source": [
    "`Exception` is a generic `try`-`except` block that catches exceptions of any type. \n",
    ">This is useful when you don't want to define each exception separately but want to catch them all in one block."
   ]
  },
  {
   "cell_type": "markdown",
   "metadata": {},
   "source": [
    "You can change the exception names using the `as` keyword to shorten a long error name to a shorter or more understandable name. \n",
    "\n",
    ">The specified variable can be used as an argument to print the error message:"
   ]
  },
  {
   "cell_type": "code",
   "execution_count": null,
   "metadata": {},
   "outputs": [],
   "source": [
    "try:\n",
    "    x = 1 / 0\n",
    "except Exception as e:\n",
    "    print(\"Exception:\", e)  # Exception: division by zero"
   ]
  },
  {
   "cell_type": "markdown",
   "metadata": {},
   "source": [
    "When an exception is raised, you can get the name of the exception class using `__class__.__name__`. \n",
    "\n",
    ">This allows you to identify exceptions more accurately and take appropriate actions based on the situation:"
   ]
  },
  {
   "cell_type": "code",
   "execution_count": null,
   "metadata": {},
   "outputs": [],
   "source": [
    "try:\n",
    "    x = 1 / 0\n",
    "except Exception as e:\n",
    "    print(\"Exception:\", e.__class__.__name__)  # Exception: ZeroDivisionError"
   ]
  },
  {
   "cell_type": "markdown",
   "metadata": {},
   "source": [
    "# `Quick assignment 9: Exception as a Generic Exception Class Assignment`\n",
    "\n",
    "1. Write a program that contains multiple types of exceptions, including those you've learned about (e.g., `ZeroDivisionError`, `ValueError`). \n",
    "2. Use a generic `try` and `except` block with `Exception as e` to catch all exceptions and print the exception type (class name) and a custom error message."
   ]
  },
  {
   "cell_type": "code",
   "execution_count": 34,
   "metadata": {},
   "outputs": [
    {
     "name": "stdout",
     "output_type": "stream",
     "text": [
      "Exception: TypeError\n"
     ]
    }
   ],
   "source": [
    "try:\n",
    "    x = 1 / 'a'\n",
    "except Exception as e:\n",
    "    print(\"Exception:\", e.__class__.__name__)  # Exception: ZeroDivisionError"
   ]
  }
 ],
 "metadata": {
  "kernelspec": {
   "display_name": "Python 3",
   "language": "python",
   "name": "python3"
  },
  "language_info": {
   "codemirror_mode": {
    "name": "ipython",
    "version": 3
   },
   "file_extension": ".py",
   "mimetype": "text/x-python",
   "name": "python",
   "nbconvert_exporter": "python",
   "pygments_lexer": "ipython3",
   "version": "3.12.0"
  }
 },
 "nbformat": 4,
 "nbformat_minor": 2
}
