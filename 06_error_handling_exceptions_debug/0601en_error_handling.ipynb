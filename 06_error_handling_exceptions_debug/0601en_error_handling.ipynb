{
 "cells": [
  {
   "cell_type": "markdown",
   "metadata": {},
   "source": [
    "# Error Handling\n",
    "\n",
    "`Error handling` is essential in any programming work to handle unexpected disruptions in the program's execution. In Python, error handling is implemented using try and except blocks.\n",
    "\n",
    "## `try` and `except` Block\n",
    "\n",
    ">In the `try` block, you write the program that might raise an error. \n",
    ">>In the `except` block, you specify the code to be executed if the `try` block raises an error. \n",
    "\n",
    "**For example:**"
   ]
  },
  {
   "cell_type": "code",
   "execution_count": 1,
   "metadata": {},
   "outputs": [
    {
     "name": "stdout",
     "output_type": "stream",
     "text": [
      "Error!\n"
     ]
    }
   ],
   "source": [
    "try:\n",
    "    a = 10 / 0\n",
    "except:\n",
    "    print(\"Error!\")  # Error!"
   ]
  },
  {
   "cell_type": "markdown",
   "metadata": {},
   "source": [
    ">You can specify a specific error in the `except` block (e.g., **TypeError**, **ValueError**, **ZeroDivisionError**, etc.), \n",
    ">>in which case execution goes to the `except` block only if the `try` block raises the specified error. \n",
    "\n",
    "**For example:**"
   ]
  },
  {
   "cell_type": "code",
   "execution_count": 2,
   "metadata": {},
   "outputs": [
    {
     "name": "stdout",
     "output_type": "stream",
     "text": [
      "Cannot divide by zero!\n"
     ]
    }
   ],
   "source": [
    "try:\n",
    "    x = 5 / 0\n",
    "except ZeroDivisionError:\n",
    "    print(\"Cannot divide by zero!\")  # Cannot divide by zero!"
   ]
  },
  {
   "cell_type": "markdown",
   "metadata": {},
   "source": [
    "## Ignoring an Error with `except: pass`\n",
    "\n",
    ">Sometimes you don't need to take any action when a particular error occurs. \n",
    ">>In such cases, you can use the `except: pass` construct, which simply skips error handling and continues the program's execution. \n",
    "\n",
    "**For example:**"
   ]
  },
  {
   "cell_type": "code",
   "execution_count": 3,
   "metadata": {},
   "outputs": [],
   "source": [
    "try:\n",
    "    x = 5 / 0\n",
    "except ZeroDivisionError:\n",
    "    pass"
   ]
  },
  {
   "cell_type": "markdown",
   "metadata": {},
   "source": [
    ">In this example, the `try` block also includes division by zero, which is the cause of the error. \n",
    ">>However, the `except` block is empty, as it only contains `pass`. This means that the program just skips error handling and continues execution."
   ]
  },
  {
   "cell_type": "markdown",
   "metadata": {},
   "source": [
    "## `else` and `finally` After `try` and `except`"
   ]
  },
  {
   "cell_type": "markdown",
   "metadata": {},
   "source": [
    "The `else` block allows us to define code that will be executed only when the `try` block is successfully completed, i.e., when no errors are raised. The `else` block must come after all `except` blocks. \n",
    "\n",
    "**For example:**"
   ]
  },
  {
   "cell_type": "code",
   "execution_count": 4,
   "metadata": {},
   "outputs": [
    {
     "name": "stdout",
     "output_type": "stream",
     "text": [
      "The result is 5.0\n"
     ]
    }
   ],
   "source": [
    "try:\n",
    "    result = 10 / 2\n",
    "except ZeroDivisionError:\n",
    "    print(\"Cannot divide by zero!\")\n",
    "else:\n",
    "    print(\"The result is\", result)  # The result is 5.0"
   ]
  },
  {
   "cell_type": "markdown",
   "metadata": {},
   "source": [
    "The `finally` block is used to define code that will be executed regardless of whether errors were raised or not. This can be useful for performing certain actions, such as cleaning up temporary files, disconnecting from a database, etc."
   ]
  },
  {
   "cell_type": "code",
   "execution_count": 5,
   "metadata": {},
   "outputs": [
    {
     "name": "stdout",
     "output_type": "stream",
     "text": [
      "Cannot divide by zero!\n",
      "Program finished executing\n"
     ]
    }
   ],
   "source": [
    "try:\n",
    "    result = 10 / 0\n",
    "except ZeroDivisionError:\n",
    "    print(\"Cannot divide by zero!\")\n",
    "finally:\n",
    "    print(\"Program finished executing\")"
   ]
  },
  {
   "cell_type": "markdown",
   "metadata": {},
   "source": [
    "## Handling Different Errors in a Single `try` Block with Multiple `except` Blocks\n",
    "\n",
    "To handle different errors in one `try` block, you can use multiple `except` blocks with different error types. \n",
    "\n",
    "**For example:**"
   ]
  },
  {
   "cell_type": "code",
   "execution_count": 8,
   "metadata": {},
   "outputs": [
    {
     "name": "stdout",
     "output_type": "stream",
     "text": [
      "Invalid number format\n"
     ]
    }
   ],
   "source": [
    "try:\n",
    "    number = int(input(\"Enter a number: \"))\n",
    "    result = 10 / number\n",
    "except ZeroDivisionError:\n",
    "    print(\"Cannot divide by zero\")\n",
    "except ValueError:\n",
    "    print(\"Invalid number format\")\n",
    "else:\n",
    "    print(\"The result is:\", result)"
   ]
  },
  {
   "cell_type": "markdown",
   "metadata": {},
   "source": [
    ">Additionally, you can use a generic `except` block, which catches any error that is not handled by the previous `except` blocks. \n",
    ">>This block is usually used as a fallback to protect the program from unexpected behavior."
   ]
  },
  {
   "cell_type": "markdown",
   "metadata": {},
   "source": [
    "## Alternative Approach: Using `if` and `else`\n",
    "\n",
    "Error handling can also be done using `if-else` conditions as an alternative to the try-except method. \n",
    "\n",
    "**Here's an example:**"
   ]
  },
  {
   "cell_type": "code",
   "execution_count": 9,
   "metadata": {},
   "outputs": [
    {
     "name": "stdout",
     "output_type": "stream",
     "text": [
      "The result is: 0.45454545454545453\n"
     ]
    }
   ],
   "source": [
    "number = input(\"Enter a number: \")\n",
    "\n",
    "if number.isdigit():\n",
    "    number = int(number)\n",
    "    if number == 0:\n",
    "        print(\"Division by zero is not allowed\")\n",
    "    else:\n",
    "        result = 10 / number\n",
    "        print(\"The result is:\", result)\n",
    "else:\n",
    "    print(\"Invalid number format\")\n",
    "\n",
    "\n",
    "# Result:\n",
    "\n",
    "# Enter a number: 0\n",
    "# Division by zero is not allowed\n",
    "\n",
    "# Enter a number: two\n",
    "# Invalid number format\n",
    "\n",
    "# Enter a number: 3\n",
    "# The result is: 3.3333333333333335"
   ]
  },
  {
   "cell_type": "markdown",
   "metadata": {},
   "source": [
    "\n",
    "#### This method has its advantages and disadvantages. \n",
    "\n",
    ">One advantage is that it can be simpler than the try-except method, especially when you want to handle only one type of error. \n",
    ">>However, when dealing with multiple errors, such as handling five different error types, you would need to write five separate conditions, potentially making the code overly long and hard to read.\n"
   ]
  },
  {
   "cell_type": "markdown",
   "metadata": {},
   "source": [
    "# `Assignment `\n",
    "Write a program that allows the user to input two numbers and prints their quotient. \n",
    "\n",
    "If the user enters text or tries to divide by zero, the program should catch the error and print an error message."
   ]
  },
  {
   "cell_type": "code",
   "execution_count": 16,
   "metadata": {},
   "outputs": [
    {
     "name": "stdout",
     "output_type": "stream",
     "text": [
      "11.0\n"
     ]
    }
   ],
   "source": [
    "try:\n",
    "    number = int(input(\"Enter a number: \"))\n",
    "    number2 = int(input(\"Enter another number: \"))\n",
    "    print(number / number2)\n",
    "except ZeroDivisionError:\n",
    "    print(\"You can't divide by zero\")\n",
    "\n",
    "except ValueError:\n",
    "    print(\"You didn't enter a number\")\n",
    "\n"
   ]
  }
 ],
 "metadata": {
  "kernelspec": {
   "display_name": "venv",
   "language": "python",
   "name": "python3"
  },
  "language_info": {
   "codemirror_mode": {
    "name": "ipython",
    "version": 3
   },
   "file_extension": ".py",
   "mimetype": "text/x-python",
   "name": "python",
   "nbconvert_exporter": "python",
   "pygments_lexer": "ipython3",
   "version": "3.12.0"
  }
 },
 "nbformat": 4,
 "nbformat_minor": 2
}
