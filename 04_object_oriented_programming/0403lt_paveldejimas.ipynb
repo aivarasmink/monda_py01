{
 "cells": [
  {
   "cell_type": "markdown",
   "metadata": {},
   "source": [
    "# Paveldėjimas\n",
    "\n",
    "Viena iš objektinio programavimo savybių yra paveldėjimas. Tai reiškia, kad klasė gali paveldėti kitos klasės savybes ir metodus. Paveldėjimas padeda sumažinti kodą, nes leidžia sukurti naujas klases, kurios naudoja savybes ir metodus iš jau egzistuojančių klasių."
   ]
  },
  {
   "cell_type": "markdown",
   "metadata": {},
   "source": [
    "- Paveldėjimas su Elektriniu Automobiliu\n",
    "    - \"Pavyzdžiui, `ElektrinisAutomobilis` gali būti išvestinė klasė, paveldėjusi savybes iš bendresnės `Automobilis` klasės.\"\n",
    "\n",
    "- Bazinė Klasė: Automobilis\n",
    "    - Tarkime, turime bazinę klasę `Automobilis`, kuri apibrėžia kelis metodus ir atributus, bendrus visiems automobiliams."
   ]
  },
  {
   "cell_type": "code",
   "execution_count": 1,
   "metadata": {},
   "outputs": [],
   "source": [
    "class Automobilis: \n",
    "    kuro_tipas = \"benzinas\"\n",
    "\n",
    "    def __init__(self, marke, modelis, metai=\"2024\", spalva=\"pilka\"): \n",
    "        self.marke = marke \n",
    "        self.modelis = modelis\n",
    "        self.__metai = metai\n",
    "        self.__spalva = spalva\n",
    "\n",
    "    def gauti_metus(self):\n",
    "        return self.__metai\n",
    "    \n",
    "    def gauti_spalva(self):\n",
    "        return self.__spalva\n",
    "\n",
    "    def __pakeisti_spalva(self, nauja_spalva):\n",
    "        self.__spalva = nauja_spalva\n",
    "\n",
    "    def perdazyti(self, nauja_spalva):\n",
    "        self.__pakeisti_spalva(nauja_spalva)\n",
    "\n",
    "    def __str__(self) -> str:\n",
    "        return f\"{self.marke} {self.modelis}, {self.gauti_metus()}, {self.gauti_spalva()}, {self.kuro_tipas}\""
   ]
  },
  {
   "cell_type": "code",
   "execution_count": 2,
   "metadata": {},
   "outputs": [
    {
     "name": "stdout",
     "output_type": "stream",
     "text": [
      "Mercedes\n",
      "C-Class\n",
      "2024\n",
      "pilka\n"
     ]
    }
   ],
   "source": [
    "trecias_automobilis = Automobilis('Mercedes', 'C-Class')\n",
    "\n",
    "print(trecias_automobilis)"
   ]
  },
  {
   "cell_type": "markdown",
   "metadata": {},
   "source": [
    "### Išvestinė Klasė: ElektrinisAutomobilis\n",
    "\n",
    "`ElektrinisAutomobilis` yra išvestinė klasė, kuri paveldi savybes iš `Automobilis`, bet taip pat turi specifinių savybių, būdingų elektriniams automobiliams."
   ]
  },
  {
   "cell_type": "code",
   "execution_count": 3,
   "metadata": {},
   "outputs": [],
   "source": [
    "class Elektromobilis(Automobilis):\n",
    "    kuro_tipas = 'elektra'\n",
    "\n",
    "    def max_greitis(self):\n",
    "        print('Šis automobilis gali važiuoti iki 350 km/h')\n",
    "        return 350\n",
    "\n",
    "tesla_sp = Elektromobilis('Tesla', 'Model S Plaid', metai=2022, spalva='raudona')"
   ]
  },
  {
   "cell_type": "code",
   "execution_count": 4,
   "metadata": {},
   "outputs": [
    {
     "name": "stdout",
     "output_type": "stream",
     "text": [
      "Tesla\n",
      "Model S Plaid\n",
      "2022\n",
      "raudona\n",
      "pilka\n",
      "elektra\n",
      "Šis automobilis gali važiuoti iki 350 km/h\n"
     ]
    },
    {
     "data": {
      "text/plain": [
       "350"
      ]
     },
     "execution_count": 4,
     "metadata": {},
     "output_type": "execute_result"
    }
   ],
   "source": [
    "print(tesla_sp)\n",
    "tesla_sp.perdazyti(\"pilka\")\n",
    "print(tesla_sp.gauti_spalva()) # pilka\n",
    "print(tesla_sp.kuro_tipas) # elektra\n",
    "tesla_sp.max_greitis() # Šis automobilis gali važiuoti iki 350 km/h"
   ]
  },
  {
   "cell_type": "markdown",
   "metadata": {},
   "source": [
    "### Pirma Užduotis: Gyvūnų Hierarchija\n",
    "\n",
    "### Užduoties Aprašymas\n",
    "\n",
    "Sukurkite bazinę klasę `Gyvunas` ir išvestines klases `Kate` bei `Suo`, kurios paveldės bazinės klasės atributus ir metodus. Kiekviena iš šių išvestinių klasių turi turėti savo unikalius `balsas` ir `judeti` metodus.\n",
    "\n",
    "Klasės Specifikacijos:\n",
    "\n",
    "- Bazinė Klasė `Gyvunas`\n",
    "\n",
    "    - Turi būti sukurta klasė `Gyvunas`.\n",
    "    - Klasė turi turėti bent vieną bendrą atributą, pavyzdžiui, `vardas`.\n",
    "    - Klasė gali turėti bendrus metodus, kurie vėliau gali būti perdefiniuoti.\n",
    "\n",
    "- Išvestinė Klasė `Kate`\n",
    "\n",
    "    - Klasė `Kate` paveldi iš `Gyvunas`.\n",
    "    - Turi turėti metodą `balsas`, kuris grąžina tekstą, vaizduojantį katės miaukimą.\n",
    "    - Turi turėti metodą `judeti`, kuris grąžina tekstą, vaizduojantį katės judėjimą.\n",
    "\n",
    "- Išvestinė Klasė `Suo`\n",
    "\n",
    "    - Klasė `Suo` paveldi iš `Gyvunas`.\n",
    "    - Turi turėti metodą `balsas`, kuris grąžina tekstą, vaizduojantį šuns lojimą.\n",
    "    - Turi turėti metodą `judeti`, kuris grąžina tekstą, vaizduojantį šuns bėgiojimą.\n",
    "\n",
    "- Objektų Sukūrimas ir Jų Metodų Iškvietimas\n",
    "\n",
    "    - Sukurkite kelis `Kate` ir `Suo` klasių objektus.\n",
    "    - Priskirkite kiekvienam objektui vardą.\n",
    "    - Iškvieskite kiekvieno objekto `balsas` ir `judeti` metodus."
   ]
  },
  {
   "cell_type": "code",
   "execution_count": null,
   "metadata": {},
   "outputs": [],
   "source": [
    "class Gyvunas:  # istas ir teisingas net teisingesnis\n",
    "    def __init__(self, vardas, kojos = \"keturkojis\", ausys=\"stačios\", balselis = \"miau\"): \n",
    "        self.vardas = vardas \n",
    "        self.kojos = kojos\n",
    "        self.ausys = ausys\n",
    "        self.__balselis = balselis\n",
    "        \n",
    "    def balsas(self):\n",
    "        return self.__balselis\n",
    "    \n",
    "    def judeti(self):\n",
    "        return \"sėlinti\"\n",
    "        \n",
    "class Kate(Gyvunas):\n",
    "    \n",
    "    def balsas(self):\n",
    "        return \"miau miauuu\"\n",
    "    \n",
    "    def judeti(self):\n",
    "        return \"šokti ant šakos\"\n",
    "        \n",
    "class Suo(Gyvunas):\n",
    "    def balsas(self):\n",
    "        return \"au au\"\n",
    "\n",
    "    def judeti(self):\n",
    "        return \"bėga\"    \n",
    "    \n",
    "kate1 = Gyvunas(\"Snaigė\")\n",
    "kate2 = Kate(\"Baltė\")\n",
    "suo1 = Suo(\"Wintis\")\n",
    "suo2 = Kate(\"Zerro\")\n",
    "\n",
    "for gyvunas in [kate1, kate2, suo1, suo2]:\n",
    "    print(f'{gyvunas.vardas}: {gyvunas.kojos} ausys {gyvunas.ausys}, sako: {gyvunas.balsas()} ir mėgsta {gyvunas.judeti()}')"
   ]
  },
  {
   "cell_type": "code",
   "execution_count": 8,
   "metadata": {},
   "outputs": [
    {
     "name": "stdout",
     "output_type": "stream",
     "text": [
      "Smirdalius\n",
      "Ramiai guliu\n",
      "Murklys\n",
      "Miau\n",
      "Einu kur noriu\n",
      "Fibe\n",
      "Au Au\n",
      "Daug zaidziu\n"
     ]
    }
   ],
   "source": [
    "class Gyvunas:\n",
    "    def __init__(self, vardas):\n",
    "        self.vardas = vardas\n",
    "\n",
    "    def balsas(self):\n",
    "        pass\n",
    "\n",
    "    def judesys(self):\n",
    "        print('Ramiai guliu') #Galima su return 'Ramiai guliu'\n",
    "\n",
    "class Kate(Gyvunas):\n",
    "    def balsas(self):\n",
    "        print('Miau') # Taipat su return galima situs\n",
    "\n",
    "    def judesys(self):\n",
    "        print('Einu kur noriu') # ir sita\n",
    "\n",
    "class Sou(Gyvunas):\n",
    "    def balsas(self):\n",
    "        print('Au Au') # ir sita\n",
    "\n",
    "    def judesys(self):\n",
    "        print('Daug zaidziu') # ir sita\n",
    "\n",
    "seskas = Gyvunas('Smirdalius')\n",
    "kate = Kate('Murklys')\n",
    "sou = Sou('Fibe')\n",
    "\n",
    "print(seskas.vardas)\n",
    "seskas.balsas()\n",
    "seskas.judesys()\n",
    "\n",
    "print(kate.vardas)\n",
    "kate.balsas()\n",
    "kate.judesys()\n",
    "\n",
    "print(sou.vardas)\n",
    "sou.balsas()\n",
    "sou.judesys()\n"
   ]
  },
  {
   "cell_type": "markdown",
   "metadata": {},
   "source": [
    "---\n",
    "\n",
    "## Objekto priklausymo klasei patikrinimas"
   ]
  },
  {
   "cell_type": "markdown",
   "metadata": {},
   "source": [
    "- `isinstance` yra funkcija, kuri leidžia patikrinti, ar objektas priklauso tam tikrai klasei \n",
    "- Ši funkcija grąžina `True`, jei objektas yra tos klasės objektas arba objekto klasė paveldi nurodytą klasę, ir `False` kitu atveju. Pvz.:"
   ]
  },
  {
   "cell_type": "code",
   "execution_count": 5,
   "metadata": {},
   "outputs": [
    {
     "name": "stdout",
     "output_type": "stream",
     "text": [
      "True\n",
      "True\n",
      "False\n",
      "True\n"
     ]
    }
   ],
   "source": [
    "tesla_sp = Elektromobilis('Tesla', 'Model S Plaid')\n",
    "audi = Automobilis(\"Audi\", \"A4\")\n",
    "\n",
    "print(isinstance(audi, Automobilis)) # True\n",
    "print(isinstance(tesla_sp, Automobilis)) # True\n",
    "print(isinstance(audi, Elektromobilis)) # False\n",
    "print(isinstance(tesla_sp, Elektromobilis)) # True"
   ]
  },
  {
   "cell_type": "code",
   "execution_count": null,
   "metadata": {},
   "outputs": [],
   "source": [
    "print(type(tesla_sp) == Elektromobilis)\n",
    "print(type(tesla_sp) == Automobilis)"
   ]
  },
  {
   "cell_type": "markdown",
   "metadata": {},
   "source": [
    "### Antra užduotis: objektų priklausomybę esančioms klasėms\n",
    "\n",
    "- Patikrinkite pirmoje užduotyje sukurtų objektų priklausomybę esančioms klasėms."
   ]
  },
  {
   "cell_type": "code",
   "execution_count": 7,
   "metadata": {},
   "outputs": [
    {
     "name": "stdout",
     "output_type": "stream",
     "text": [
      "True\n",
      "True\n",
      "False\n"
     ]
    }
   ],
   "source": [
    "saskas = Gyvunas('Smirdalius')\n",
    "kate = Kate('Murklys')\n",
    "sou = Sou('Fibe')\n",
    "\n",
    "print(isinstance(saskas, Gyvunas))\n",
    "print(isinstance(kate, Gyvunas))\n",
    "print(isinstance(sou, Kate))"
   ]
  }
 ],
 "metadata": {
  "kernelspec": {
   "display_name": "venv",
   "language": "python",
   "name": "python3"
  },
  "language_info": {
   "codemirror_mode": {
    "name": "ipython",
    "version": 3
   },
   "file_extension": ".py",
   "mimetype": "text/x-python",
   "name": "python",
   "nbconvert_exporter": "python",
   "pygments_lexer": "ipython3",
   "version": "3.12.0"
  }
 },
 "nbformat": 4,
 "nbformat_minor": 2
}
