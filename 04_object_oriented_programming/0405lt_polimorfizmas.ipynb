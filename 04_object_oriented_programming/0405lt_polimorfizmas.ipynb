{
 "cells": [
  {
   "cell_type": "markdown",
   "metadata": {},
   "source": [
    "# Polimorfizmas\n",
    "Polimorfizmas yra vienas iš objektiškai orientuoto programavimo principų. Jis suteikia galimybę naudoti tą pačią funkciją ar metodą su įvairių tipų objektais. Tai reiškia, kad skirtingų tipų ar skirtingai įgyvendinti objektai gali būti naudojami vienodai.\n",
    "\n",
    "Polimorfizmas prisideda prie programos lankstumo, naudojimo patogumo ir kodų aiškumo, nes programuotojui lengviau pritaikyti kodą ateičiai galimiems pakeitimams."
   ]
  },
  {
   "cell_type": "markdown",
   "metadata": {},
   "source": [
    "--- \n",
    "## Metodo perrašymas\n",
    "Metodo perrašymas yra galimybė perrašyti tėvinių klasės metodą paveldėtoje klasėje ir suteikti jam naują implementaciją. Tai yra galima dėl to, kad paveldėtoje klasėje jau yra aprašytas tėvinės klasės metodas su tokiu pat pavadinimu.\n",
    "\n",
    "Metodų perrašymas leidžia mums kurti specializuotas klases, kurios gali modifikuoti ar papildyti tėvinės klasės funkcionalumą, nekeičiant paties tėvinės klasės kodo. Be to, metodas paveldėtoje klasėje gali turėti papildomus argumentus, kurių gali nebūti tėvinėje klasėje."
   ]
  },
  {
   "cell_type": "code",
   "execution_count": 1,
   "metadata": {},
   "outputs": [],
   "source": [
    "class Automobilis:\n",
    "    def __init__(self, marke, modelis, spalva='bespalvis'):\n",
    "        self.marke = marke\n",
    "        self.modelis = modelis\n",
    "        self.spalva = spalva\n",
    "\n",
    "    def greitis(self):\n",
    "        print('Šis automobilis važiuoja leistinu greičiu')\n",
    "\n",
    "\n",
    "class SportinisAutomobilis(Automobilis):\n",
    "    def greitis(self):\n",
    "        print('Šis automobilis gali važiuoti iki 300 km/h')\n",
    "\n",
    "\n",
    "class IstorinisAutomobilis(Automobilis):\n",
    "    def greitis(self):\n",
    "        print('Šis automobilis gali važiuoti iki 100 km/h')\n",
    "\n",
    "\n",
    "def informacija(automobilis):\n",
    "    automobilis.greitis()"
   ]
  },
  {
   "cell_type": "markdown",
   "metadata": {},
   "source": [
    "Iškvietę sukurtą funkciją su skirtingoms klasės priklausančiais objektais, gausime skirtingą rezultatą:"
   ]
  },
  {
   "cell_type": "code",
   "execution_count": 2,
   "metadata": {},
   "outputs": [
    {
     "name": "stdout",
     "output_type": "stream",
     "text": [
      "Šis automobilis gali važiuoti iki 300 km/h\n",
      "Šis automobilis gali važiuoti iki 100 km/h\n",
      "Šis automobilis važiuoja leistinu greičiu\n"
     ]
    }
   ],
   "source": [
    "ferrari = SportinisAutomobilis('Ferrari', '458 Italia')\n",
    "ford = IstorinisAutomobilis('Ford', 'Model T')\n",
    "audi = Automobilis(\"Audi\", \"A4\")\n",
    "\n",
    "informacija(ferrari) # Šis automobilis gali važiuoti iki 300 km/h\n",
    "informacija(ford) # Šis automobilis gali važiuoti iki 100 km/h\n",
    "informacija(audi) # Šis automobilis važiuoja leistinu greičiu"
   ]
  },
  {
   "cell_type": "markdown",
   "metadata": {},
   "source": [
    "### Užduotis 1: Metodo Perrašymas\n",
    "\n",
    "1. Sukurkite Python programą, kuri apibrėžtų bazinę klasę `Animal` su metodu `make_sound()`.\n",
    "1. Tada sukurkite dvi išvestines klases, `Dog` ir `Cat`, kurios paveldėtų iš `Animal` klasės.\n",
    "1. Perrašykite metodą `make_sound()` abiejose išvestinėse klasėse taip, kad šuo lotų ir katė miauktų, atitinkamai.\n",
    "1. Galiausiai, sukurkite `Dog` ir `Cat` klasių objektus ir iškvieskite jų metodus `make_sound()`."
   ]
  },
  {
   "cell_type": "code",
   "execution_count": 13,
   "metadata": {},
   "outputs": [
    {
     "name": "stdout",
     "output_type": "stream",
     "text": [
      "Dog: Au Au\n",
      "Cat: Miau miau\n"
     ]
    }
   ],
   "source": [
    "class Animal:\n",
    "    def make_sound(self):\n",
    "        pass\n",
    "\n",
    "class Dog(Animal):\n",
    "    def make_sound(self):\n",
    "        print('Dog: ''Au Au')\n",
    "\n",
    "class Cat(Animal):\n",
    "    def make_sound(self):\n",
    "        print('Cat: ''Miau miau')\n",
    "\n",
    "dog = Dog()\n",
    "cat = Cat()\n",
    "\n",
    "dog.make_sound()\n",
    "cat.make_sound()"
   ]
  },
  {
   "cell_type": "markdown",
   "metadata": {},
   "source": [
    "---\n",
    "## Paveldėto metodo iškvietimas\n",
    "Kai norite panaudoti paveldėtus tėvinės klasės metodus ir savybes, tačiau tuo pat metu norite pakeisti jų veikimą naudojama `super()` funkcija. Tai leidžia mums išlaikyti tėvinės klasės funkcionalumą, tuo pat metu pridedant savo papildomą funkcionalumą. Pavyzdys.:"
   ]
  },
  {
   "cell_type": "code",
<<<<<<< HEAD
   "execution_count": 14,
=======
   "execution_count": 7,
>>>>>>> origin/main
   "metadata": {},
   "outputs": [],
   "source": [
    "class TransportoPriemone:\n",
    "    marke = ''\n",
    "    modelis = ''\n",
    "\n",
    "    def greitis(self):\n",
    "        print('juda')\n",
    "\n",
    "\n",
    "class Automobilis(TransportoPriemone):\n",
    "    def __init__(self, marke, modelis):\n",
    "        self.marke = marke\n",
    "        self.modelis = modelis\n",
    "\n",
    "    def greitis(self):\n",
    "        print('Šis automobilis važiuoja leistinu greičiu')\n",
    "        super().greitis()\n",
    "\n",
    "    def car_info(self):\n",
    "        print(self.marke, self.modelis)\n",
    "\n",
    "\n",
    "class SportinisAutomobilis(Automobilis):\n",
    "    def greitis(self):\n",
    "        super().greitis()\n",
    "        print('Šis automobilis gali važiuoti iki 300 km/h')\n",
    "\n",
    "    def car_info(self):\n",
    "        super().car_info()\n",
    "        super().greitis()\n",
    "        print(\"su blizguciais\")\n"
   ]
  },
  {
   "cell_type": "markdown",
   "metadata": {},
   "source": [
    "Iškvietę sukurtą funkciją su objektu, kuris paveldi tėvinės klasės metodą, gausime toki rezultatą:"
   ]
  },
  {
   "cell_type": "code",
<<<<<<< HEAD
   "execution_count": 15,
=======
   "execution_count": 8,
>>>>>>> origin/main
   "metadata": {},
   "outputs": [
    {
     "name": "stdout",
     "output_type": "stream",
     "text": [
      "Šis automobilis važiuoja leistinu greičiu\n",
<<<<<<< HEAD
=======
      "juda\n",
>>>>>>> origin/main
      "Šis automobilis gali važiuoti iki 300 km/h\n"
     ]
    }
   ],
   "source": [
    "ferrari = SportinisAutomobilis('Ferrari', '458 Italia')\n",
    "\n",
<<<<<<< HEAD
    "ferrari.greitis()    # Šis automobilis važiuoja leistinu greičiu\n",
    "                        # Šis automobilis gali važiuoti iki 300 km/h"
=======
    "ferrari.greitis()   # Šis automobilis važiuoja leistinu greičiu\n",
    "                    # Šis automobilis gali važiuoti iki 300 km/h\n",
    "\n",
    "# ferrari.car_info()"
>>>>>>> origin/main
   ]
  },
  {
   "cell_type": "markdown",
   "metadata": {},
   "source": [
    "### Antra užduotis: Darbuotojo informacija\n",
    "\n",
    "1. Sukurkite `darbuotojų` klasę su savybėmis `vardas`, `pavarde` ir `atlyginimas`, kuri turėtų metodą atspausdinantį darbuotojo informaciją.\n",
    "1. Sukurkite `administratoriaus` klasę, kuri paveldėtų savybes iš darbuotojo klasės.\n",
    "1. Sukurkite `vadovo` klasę, kuri paveldėtų savybes iš darbuotojo klasės ir turėtų papildomą savybę \"`premija`\" bei metodą, kuris atspausdins papildytą darbuotojo informaciją.\n",
    "1. Sukurkite kelis kiekvienos klasės objektus ir iškvieskite informacijos spausdinimo metodą."
   ]
  },
  {
   "cell_type": "code",
<<<<<<< HEAD
   "execution_count": 26,
=======
   "execution_count": 6,
>>>>>>> origin/main
   "metadata": {},
   "outputs": [
    {
     "name": "stdout",
     "output_type": "stream",
     "text": [
      "\n",
      "Petras Skirmantas 1000 euru\n",
      "\n",
      "Valdemaras Kazakas 1200 euru\n",
      "\n",
      "Martynas Pupkus 1000 euru\n",
      "\n",
      "Kestutis Jenuskevicius 1000 euru\n",
      "\n",
      "Jolita Visockaite 2200 euru\n",
      "Premija: 500 euru\n"
     ]
    }
   ],
   "source": [
    "class Darboutoju:\n",
    "    def __init__(self, vardas, pavarde, atlyginimas = 1000):\n",
    "        self.vardas = vardas\n",
    "        self.pavarde = pavarde\n",
    "        self.atlyginimas = atlyginimas\n",
    "\n",
    "    def informacija(self):\n",
    "        print(f'\\n{self.vardas} {self.pavarde} {self.atlyginimas} euru')\n",
    "\n",
    "class Administratorius(Darboutoju):\n",
    "    pass\n",
    "\n",
    "class Vadovas(Darboutoju):\n",
    "    def __init__(self, vardas, pavarde, atlyginimas = 2000, premija = 0):\n",
    "        super().__init__(vardas, pavarde, atlyginimas)\n",
    "        self.premija = premija\n",
    "\n",
    "    def informacija(self):\n",
    "        super().informacija()\n",
    "        print(f'Premija: {self.premija} euru')\n",
    "\n",
    "darbuotojas1 = Darboutoju(\"Petras\", 'Skirmantas', 1000)\n",
    "darboutojas2 = Darboutoju('Valdemaras', 'Kazakas', 1200)\n",
    "darboutojas3 = Darboutoju('Martynas', 'Pupkus', 1000)\n",
    "darboutojas4 = Administratorius('Kestutis', 'Jenuskevicius')\n",
    "vadovas = Vadovas('Jolita', 'Visockaite', 2200, premija = 500)\n",
    "\n",
    "darboutojes = [darbuotojas1, darboutojas2, darboutojas3, darboutojas4, vadovas]\n",
    "\n",
    "for darbas in darboutojes:\n",
    "    darbas.informacija()\n",
    "\n",
    "        "
   ]
  }
 ],
 "metadata": {
  "kernelspec": {
   "display_name": "venv",
   "language": "python",
   "name": "python3"
  },
  "language_info": {
   "codemirror_mode": {
    "name": "ipython",
    "version": 3
   },
   "file_extension": ".py",
   "mimetype": "text/x-python",
   "name": "python",
   "nbconvert_exporter": "python",
   "pygments_lexer": "ipython3",
   "version": "3.12.0"
  }
 },
 "nbformat": 4,
 "nbformat_minor": 2
}
