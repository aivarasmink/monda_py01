{
 "cells": [
  {
   "cell_type": "markdown",
   "metadata": {},
   "source": [
    "# Decorators\n"
   ]
  },
  {
   "cell_type": "markdown",
   "metadata": {},
   "source": [
    "\n",
    "\n",
    "Decorators in Python are higher-order functions used to modify or extend the behavior of functions or methods without changing their code. Higher-order functions are those that take other functions as arguments or return functions as results.\n",
    "\n",
    "### Declaration of a decorator, wrapper:\n",
    "\n",
    "A decorator is a function that takes another function as an argument and returns a new function that additionally combines or modifies the behavior of the existing function. The wrapper function is the one created and returned during the decorator's execution.\n",
    "\n",
    "Example:\n",
    "\n"
   ]
  },
  {
   "cell_type": "code",
   "execution_count": null,
   "metadata": {},
   "outputs": [],
   "source": [
    "def decorator(func):\n",
    "    def wrapper(*args, **kwargs):\n",
    "        print(\"Before calling the function\")\n",
    "        result = func(*args, **kwargs)\n",
    "        print(\"After calling the function\")\n",
    "        return result\n",
    "    return wrapper\n"
   ]
  },
  {
   "cell_type": "markdown",
   "metadata": {},
   "source": [
    "\n",
    "Decorator example:\n"
   ]
  },
  {
   "cell_type": "code",
   "execution_count": null,
   "metadata": {},
   "outputs": [],
   "source": [
    "def greeting_decorator(func):\n",
    "    def wrapper(name):\n",
    "        print(f\"Hello, {name}!\")\n",
    "        func(name)\n",
    "    return wrapper\n",
    "\n",
    "@greeting_decorator\n",
    "def farewell(name):\n",
    "    print(f\"Goodbye, {name}!\")\n",
    "\n",
    "farewell(\"John\")"
   ]
  },
  {
   "cell_type": "markdown",
   "metadata": {},
   "source": [
    "\n",
    "\n",
    "In this example, the greeting decorator takes the farewell function as an argument and returns the `wrapper` function. The wrapper function prints a greeting, calls the farewell function with the same name, and is invoked when `farewell(\"John\")` is called.\n",
    "\n",
    "Another example:\n",
    "\n"
   ]
  },
  {
   "cell_type": "code",
   "execution_count": null,
   "metadata": {},
   "outputs": [],
   "source": [
    "\n",
    "def check_positive_numbers(func):\n",
    "    def wrapper(*args, **kwargs):\n",
    "        if all(arg > 0 for arg in args):\n",
    "            result = func(*args, **kwargs)\n",
    "        else:\n",
    "            result = \"Error: all arguments must be positive\"\n",
    "        return result\n",
    "    return wrapper\n",
    "\n",
    "@check_positive_numbers\n",
    "def multiplication(x, y):\n",
    "    return x * y\n",
    "\n",
    "result1 = multiplication(3, 5)\n",
    "print(f\"Multiplication result: {result1}\")\n",
    "\n",
    "result2 = multiplication(-2, 4)\n",
    "print(f\"Multiplication result: {result2}\")\n"
   ]
  },
  {
   "cell_type": "markdown",
   "metadata": {},
   "source": [
    "\n",
    "In this example, check_positive_numbers is a decorator that takes the multiplication function as an argument and returns the wrapper function. The wrapper function checks if all arguments are positive before calling the multiplication function.\n",
    "\n"
   ]
  },
  {
   "cell_type": "markdown",
   "metadata": {},
   "source": [
    "\n",
    "## Examples of Decorators in Python Programming:\n"
   ]
  },
  {
   "cell_type": "markdown",
   "metadata": {},
   "source": [
    "\n",
    "### @property decorator:\n"
   ]
  },
  {
   "cell_type": "markdown",
   "metadata": {},
   "source": [
    "\n",
    "The @property decorator is used when defining getter methods for class attributes. It allows accessing the function result as if it were a class attribute, rather than a method.\n",
    "\n"
   ]
  },
  {
   "cell_type": "code",
   "execution_count": null,
   "metadata": {},
   "outputs": [],
   "source": [
    "\n",
    "class Person:\n",
    "    def __init__(self, name, surname):\n",
    "        self._name = name\n",
    "        self._surname = surname\n",
    "\n",
    "    @property\n",
    "    def full_name(self):\n",
    "        return f\"{self._name} {self._surname}\"\n",
    "        \n"
   ]
  },
  {
   "cell_type": "markdown",
   "metadata": {},
   "source": [
    "## Quick Assignement 1\n",
    "\n",
    "Create a class Student with attributes first_name, last_name and age. Add three methods:\n",
    "\n",
    "full_name(): Returns the student's full name using the @property decorator.\n",
    "\n",
    "is_mature(): Returns True if the student's age is greater than or equal to 18, and \n",
    "False if not. Use the @staticmethod decorator.\n",
    "\n",
    "create_student(cls, firstname: str, lastname: str, age: int): Returns a new Student object. Use the @classmethod decorator.\n",
    "\n",
    "Create several student objects using the create_student() method of the class and test all the methods.\n",
    "​"
   ]
  },
  {
   "cell_type": "code",
   "execution_count": null,
   "metadata": {},
   "outputs": [],
   "source": [
    "class Student:\n",
    "    def __init__(self, first_name, last_name, age):\n",
    "        self.first_name = first_name\n",
    "        self.last_name = last_name\n",
    "        self.age = age\n",
    "\n",
    "    @property\n",
    "    def full_name(self):\n",
    "        return f\"{self.first_name} {self.last_name}\"\n",
    "    \n",
    "    @staticmethod\n",
    "    def ar_age(age):\n",
    "        return age >= 18\n",
    "    \n",
    "    @classmethod\n",
    "    def create_student(cls, first_name: str, last_name: str, age):\n",
    "        return cls(first_name, last_name, age)\n",
    "    \n",
    "student1 = Student.create_student(\"John\", \"Doe\", 18)\n",
    "student2 = Student.create_student(\"Pric\", \"Holl\", 19)\n",
    "\n",
    "print(student1.full_name) \n",
    "print(student2.full_name)\n",
    "\n",
    "print(Student.ar_age(student1.age))\n",
    "print(Student.ar_age(17))\n",
    "        "
   ]
  },
  {
   "cell_type": "markdown",
   "metadata": {},
   "source": [
    "### @staticmethod decorator:\n",
    "\n",
    "The `@staticmethod` decorator is used to define static methods in a class. Static methods can be called at the class level without an instance of the object and are independent of the object's state.\n",
    "\n"
   ]
  },
  {
   "cell_type": "code",
   "execution_count": null,
   "metadata": {},
   "outputs": [],
   "source": [
    "\n",
    "class Math:\n",
    "    @staticmethod\n",
    "    def addition(x, y):\n",
    "        return x + y\n",
    "\n",
    "result = Math.addition(3, 5)\n",
    "print(result)\n",
    "\n"
   ]
  },
  {
   "cell_type": "markdown",
   "metadata": {},
   "source": [
    "\n",
    "### @classmethod decorator:\n",
    "The `@classmethod` decorator is used to define class methods that take the class itself as the first argument (usually named \"cls\"). Class methods can be called at both the class and object levels and always return class attributes.\n"
   ]
  },
  {
   "cell_type": "code",
   "execution_count": null,
   "metadata": {},
   "outputs": [],
   "source": [
    "\n",
    "\n",
    "class Car:\n",
    "    _manufacturer = \"Toyota\"\n",
    "\n",
    "    @classmethod\n",
    "    def manufacturer(cls):\n",
    "        return cls._manufacturer\n",
    "\n",
    "print(Car.manufacturer())\n"
   ]
  },
  {
   "cell_type": "markdown",
   "metadata": {},
   "source": [
    "\n",
    "### Decorator Docstrings:\n",
    "\n",
    "Docstrings are longer comments describing a function's behavior, parameters, and return values. They are written between triple quotes and must be at the beginning of the function before its code.\n"
   ]
  },
  {
   "cell_type": "code",
   "execution_count": null,
   "metadata": {},
   "outputs": [],
   "source": [
    "\n",
    "def decorator(func):\n",
    "    \"\"\"\n",
    "    A decorator that prints a message before and after calling the function.\n",
    "\n",
    "    Args:\n",
    "        func (callable): The function to be decorated.\n",
    "    \"\"\"\n",
    "    def wrapper(*args, **kwargs):\n",
    "        print(\"The function will be called\")\n",
    "        result = func(*args, **kwargs)\n",
    "        print(\"The function has been called\")\n",
    "        return result\n",
    "    return wrapper\n",
    "\n",
    "    \n"
   ]
  },
  {
   "cell_type": "markdown",
   "metadata": {},
   "source": [
    "### Decorator Annotations:\n",
    "\n",
    "Annotations provide hints about the types of variables. They help better understand the types of data that a function takes and returns. Annotations are optional and do not affect the program's execution.\n"
   ]
  },
  {
   "cell_type": "code",
   "execution_count": null,
   "metadata": {},
   "outputs": [],
   "source": [
    "\n",
    "from typing import Callable, Any\n",
    "\n",
    "def decorator(func: Callable[..., Any]) -> Callable[..., Any]:\n",
    "    def wrapper(*args, **kwargs) -> Any:\n",
    "        print(\"The function will be called\")\n",
    "        result = func(*args, **kwargs)\n",
    "        print(\"The function has been called\")\n",
    "        return result\n",
    "    return wrapper\n",
    "    \n"
   ]
  },
  {
   "cell_type": "markdown",
   "metadata": {},
   "source": [
    "### Using the `@wraps()` Decorator:\n",
    "\n",
    "Inside a decorator, an inner function (usually called wrapper) is created to invoke the original function. However, this behavior may cause issues as the inner function's attributes can overshadow the original function's attributes. To avoid this problem, the functools.wraps() decorator is often used.\n",
    "\n"
   ]
  },
  {
   "cell_type": "code",
   "execution_count": null,
   "metadata": {},
   "outputs": [],
   "source": [
    "\n",
    "from functools import wraps\n",
    "from typing import Callable, Any\n",
    "\n",
    "def decorator(func: Callable[..., Any]) -> Callable[..., Any]:\n",
    "    @wraps(func)\n",
    "    def wrapper(*args, **kwargs) -> Any:\n",
    "        print(\"The function will be called\")\n",
    "        result = func(*args, **kwargs)\n",
    "        print(\"The function has been called\")\n",
    "        return result\n",
    "    return wrapper\n",
    "\n",
    "@decorator\n",
    "def example_function(a: int, b: int) -> int:\n",
    "    \"\"\"\n",
    "    A function that adds two numbers and returns the result.\n",
    "\n",
    "    Args:\n",
    "        a (int): The first number.\n",
    "        b (int): The second number.\n",
    "    Returns:\n",
    "        int: The sum of the numbers.\n",
    "    \"\"\"\n",
    "    return a + b\n",
    "\n",
    "print(example_function(3, 5))  # Output: The function will be called, The function has been called, 8\n",
    "print(example_function.__name__)  # Output: example_function\n",
    "print(example_function.__doc__)  # Output: A function that adds two numbers and returns the result...\n",
    "\n"
   ]
  },
  {
   "cell_type": "markdown",
   "metadata": {},
   "source": [
    "\n",
    "### Creating Decorators with Parameters:\n",
    "\n",
    "Decorators with parameters allow you to pass additional parameters to the decorator, making it more flexible and adaptable to different situations. To create a decorator with parameters, an additional outer function is created, which returns the actual decorator.\n",
    "\n"
   ]
  },
  {
   "cell_type": "code",
   "execution_count": null,
   "metadata": {},
   "outputs": [],
   "source": []
  },
  {
   "cell_type": "code",
   "execution_count": null,
   "metadata": {},
   "outputs": [],
   "source": [
    "\n",
    "from functools import wraps\n",
    "from typing import Callable, Any\n",
    "\n",
    "def repeat_decorator(times: int):\n",
    "    def actual_decorator(func: Callable[..., Any]) -> Callable[..., Any]:\n",
    "        @wraps(func)\n",
    "        def wrapper(*args, **kwargs) -> Any:\n",
    "            for _ in range(times):\n",
    "                result = func(*args, **kwargs)\n",
    "            return result\n",
    "        return wrapper\n",
    "    return actual_decorator\n",
    "\n",
    "@repeat_decorator(3)\n",
    "def print_message(message: str) -> None:\n",
    "    print(message)\n",
    "\n",
    "print_message(\"Hello!\")  # Output: Hello! Hello! Hello!\n",
    "\n"
   ]
  },
  {
   "cell_type": "markdown",
   "metadata": {},
   "source": [
    "\n",
    "In this example, the `repeat_decorator` function takes the times parameter, indicating how many times the decorated function should be called. The actual_decorator function is returned by the outer function, and it works as a standard decorator.\n"
   ]
  },
  {
   "cell_type": "markdown",
   "metadata": {},
   "source": [
    "## Quick Assignement 2\n",
    "\n",
    "Write a decorator that:\n",
    "\n",
    "converts all text `*args` and `**kwargs` of the decorated function to uppercase.\n",
    "converts all text results of the function to uppercase."
   ]
  },
  {
   "cell_type": "code",
   "execution_count": null,
   "metadata": {},
   "outputs": [],
   "source": [
    "from functools import wraps\n",
    "def make_upper(func):\n",
    "    @wraps(func)\n",
    "    def wrapper(*args, **kwargs):\n",
    "        for arg in args:\n",
    "            if type(arg) == str:\n",
    "                arg = arg.upper()\n",
    "        for kwarg in kwargs:\n",
    "            if type(kwarg) == str:\n",
    "                kwarg = kwarg.upper()\n",
    "        result = func(*args, **kwargs)\n",
    "        if type(result) == str:\n",
    "            result = result.upper()\n",
    "        return result\n",
    "    return wrapper\n",
    "\n",
    "@make_upper\n",
    "def make_lower(string=\"Hello World\"):\n",
    "    print(f\"making '{string}' lower case\")\n",
    "    return string.lower()\n",
    "\n",
    "print(make_lower())\n",
    "print(make_lower(\"its world\"))"
   ]
  },
  {
   "cell_type": "markdown",
   "metadata": {},
   "source": [
    "\n",
    "### Multiple Decorators on One Function:\n",
    "\n",
    "You can use multiple decorators on a single function, but keep in mind that they will be applied in a specific order. The first decorator will be applied last, the second decorator will be applied second to last, and so on.\n",
    "\n"
   ]
  },
  {
   "cell_type": "code",
   "execution_count": null,
   "metadata": {},
   "outputs": [],
   "source": [
    "\n",
    "from functools import wraps\n",
    "from typing import Callable, Any\n",
    "\n",
    "def print_before_decorator(func: Callable[..., Any]) -> Callable[..., Any]:\n",
    "    @wraps(func)\n",
    "    def wrapper(*args, **kwargs) -> Any:\n",
    "        print(\"The function will be called\")\n",
    "        return func(*args, **kwargs)\n",
    "    return wrapper\n",
    "\n",
    "def print_after_decorator(func: Callable[..., Any]) -> Callable[..., Any]:\n",
    "    @wraps(func)\n",
    "    def wrapper(*args, **kwargs) -> Any:\n",
    "        result = func(*args, **kwargs)\n",
    "        print(\"The function has been called\")\n",
    "        return result\n",
    "    return wrapper\n",
    "\n",
    "@print_before_decorator\n",
    "@print_after_decorator\n",
    "def add_numbers(a: int, b: int) -> int:\n",
    "    return a + b\n",
    "\n",
    "result = add_numbers(3, 5)  # Output: The function will be called, The function has been called\n",
    "print(result)  # Output: 8\n"
   ]
  },
  {
   "cell_type": "markdown",
   "metadata": {},
   "source": [
    "\n",
    "In this example, the add_numbers function is decorated with two decorators: print_before_decorator and print_after_decorator. The order of application is important, and the output will reflect the order of decoration."
   ]
  },
  {
   "cell_type": "markdown",
   "metadata": {},
   "source": [
    "## Quick Assignement 3"
   ]
  },
  {
   "cell_type": "markdown",
   "metadata": {},
   "source": [
    "Write a function to find a prime number\n",
    "\n",
    "Write an unbounded prime number generator\n",
    "\n",
    "Write a decorator to measure the time of the function\n",
    "\n",
    "Make a function that has a loop to print finding a sequence of prime numbers until finding the current prime number in the sequence takes more than 0.01 seconds.\n",
    "print the duration of the entire process using the decorator"
   ]
  },
  {
   "cell_type": "code",
   "execution_count": null,
   "metadata": {},
   "outputs": [],
   "source": [
    "from time import time\n",
    "\n",
    "def find_primary(number):\n",
    "    if number < 2:\n",
    "        return False\n",
    "    for sk in range(2, number):\n",
    "        if number % sk == 0:\n",
    "            return False\n",
    "    return True\n",
    "\n",
    "def primary_num_generator():\n",
    "    number = 2\n",
    "    while True:\n",
    "        if find_primary(number):\n",
    "            yield number\n",
    "        number += 1\n",
    "\n",
    "def measure_time(func):\n",
    "    def wrapper(*args, **kwargs):\n",
    "        start = time()\n",
    "        result = func(*args, **kwargs)\n",
    "        end = time()\n",
    "        print(f'Время выполнения: {end - start}')\n",
    "        return result\n",
    "    return wrapper\n",
    "\n",
    "@measure_time\n",
    "def primary_sequence_until_time():\n",
    "    prim_nm_gen = primary_num_generator()\n",
    "    next_first = next(prim_nm_gen)\n",
    "    while True:\n",
    "        start = time()\n",
    "        primary = next_first\n",
    "        next_first = next(prim_nm_gen)\n",
    "        elapsed_time = time() - start\n",
    "        print(elapsed_time)\n",
    "        if elapsed_time > 0.01:\n",
    "            break\n",
    "        print(primary)\n",
    "\n",
    "primary_sequence_until_time()"
   ]
  },
  {
   "cell_type": "code",
   "execution_count": null,
   "metadata": {},
   "outputs": [],
   "source": [
    "def is_prime(num):\n",
    "    if num <= 1:\n",
    "        return False\n",
    "    for i in range(2, int(num**0.5) + 1):\n",
    "        if num % i == 0:\n",
    "            return False\n",
    "    return True\n",
    "\n",
    "def generate_primes(start, end):\n",
    "    primes = []\n",
    "    for num in range(start, end + 1):\n",
    "        if is_prime(num):\n",
    "            primes.append(num)\n",
    "    return primes\n",
    "\n",
    "# Example usage:\n",
    "start = 1\n",
    "end = 1000000\n",
    "primes = generate_primes(start, end)\n",
    "print(primes)"
   ]
  }
 ],
 "metadata": {
  "kernelspec": {
   "display_name": "Python 3",
   "language": "python",
   "name": "python3"
  },
  "language_info": {
   "codemirror_mode": {
    "name": "ipython",
    "version": 3
   },
   "file_extension": ".py",
   "mimetype": "text/x-python",
   "name": "python",
   "nbconvert_exporter": "python",
   "pygments_lexer": "ipython3",
   "version": "3.12.0"
  }
 },
 "nbformat": 4,
 "nbformat_minor": 2
}
